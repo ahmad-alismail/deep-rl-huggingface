{
  "cells": [
    {
      "cell_type": "markdown",
      "metadata": {
        "id": "hyyN-2qyK_T2"
      },
      "source": [
        "# Hyperparameter tuning with Optuna\n",
        "\n",
        "Github repo: https://github.com/araffin/tools-for-robotic-rl-icra2022\n",
        "\n",
        "Optuna: https://github.com/optuna/optuna\n",
        "\n",
        "Stable-Baselines3: https://github.com/DLR-RM/stable-baselines3\n",
        "\n",
        "Documentation: https://stable-baselines3.readthedocs.io/en/master/\n",
        "\n",
        "SB3 Contrib: https://github.com/Stable-Baselines-Team/stable-baselines3-contrib\n",
        "\n",
        "RL Baselines3 zoo: https://github.com/DLR-RM/rl-baselines3-zoo\n",
        "\n",
        "[RL Baselines3 Zoo](https://github.com/DLR-RM/rl-baselines3-zoo) is a collection of pre-trained Reinforcement Learning agents using Stable-Baselines3.\n",
        "\n",
        "It also provides basic scripts for training, evaluating agents, tuning hyperparameters and recording videos.\n",
        "\n",
        "\n",
        "## Introduction\n",
        "\n",
        "In this notebook, you will learn the importance of tuning hyperparameters. You will first try to optimize the parameters manually and then we will see how to automate the search using Optuna.\n",
        "\n",
        "\n",
        "## Install Dependencies and Stable Baselines3 Using Pip\n",
        "\n",
        "List of full dependencies can be found in the [README](https://github.com/DLR-RM/stable-baselines3).\n",
        "\n",
        "\n",
        "```\n",
        "pip install stable-baselines3[extra]\n",
        "```"
      ]
    },
    {
      "cell_type": "code",
      "execution_count": 1,
      "metadata": {
        "colab": {
          "base_uri": "https://localhost:8080/"
        },
        "id": "hYdv2ygjLaFL",
        "outputId": "5ade6b26-2be4-4ab8-d49e-3fdbfbc22dac"
      },
      "outputs": [
        {
          "name": "stdout",
          "output_type": "stream",
          "text": [
            "Collecting stable-baselines3\n",
            "  Downloading stable_baselines3-1.7.0-py3-none-any.whl (171 kB)\n",
            "     -------------------------------------- 171.8/171.8 KB 2.6 MB/s eta 0:00:00\n",
            "Collecting gym==0.21\n",
            "  Downloading gym-0.21.0.tar.gz (1.5 MB)\n",
            "     ---------------------------------------- 1.5/1.5 MB 14.0 MB/s eta 0:00:00\n",
            "  Preparing metadata (setup.py): started\n",
            "  Preparing metadata (setup.py): finished with status 'done'\n",
            "Requirement already satisfied: numpy in c:\\users\\ahmad.alismail\\appdata\\local\\programs\\python\\python310\\lib\\site-packages (from stable-baselines3) (1.22.4)\n",
            "Requirement already satisfied: matplotlib in c:\\users\\ahmad.alismail\\appdata\\local\\programs\\python\\python310\\lib\\site-packages (from stable-baselines3) (3.5.2)\n",
            "Collecting importlib-metadata~=4.13\n",
            "  Downloading importlib_metadata-4.13.0-py3-none-any.whl (23 kB)\n",
            "Requirement already satisfied: torch>=1.11 in c:\\users\\ahmad.alismail\\appdata\\local\\programs\\python\\python310\\lib\\site-packages (from stable-baselines3) (1.11.0)\n",
            "Collecting cloudpickle\n",
            "  Downloading cloudpickle-2.2.1-py3-none-any.whl (25 kB)\n",
            "Requirement already satisfied: pandas in c:\\users\\ahmad.alismail\\appdata\\local\\programs\\python\\python310\\lib\\site-packages (from stable-baselines3) (1.4.2)\n",
            "Collecting zipp>=0.5\n",
            "  Downloading zipp-3.12.0-py3-none-any.whl (6.6 kB)\n",
            "Requirement already satisfied: typing-extensions in c:\\users\\ahmad.alismail\\appdata\\local\\programs\\python\\python310\\lib\\site-packages (from torch>=1.11->stable-baselines3) (4.2.0)\n",
            "Requirement already satisfied: fonttools>=4.22.0 in c:\\users\\ahmad.alismail\\appdata\\local\\programs\\python\\python310\\lib\\site-packages (from matplotlib->stable-baselines3) (4.33.3)\n",
            "Requirement already satisfied: cycler>=0.10 in c:\\users\\ahmad.alismail\\appdata\\local\\programs\\python\\python310\\lib\\site-packages (from matplotlib->stable-baselines3) (0.11.0)\n",
            "Requirement already satisfied: pillow>=6.2.0 in c:\\users\\ahmad.alismail\\appdata\\local\\programs\\python\\python310\\lib\\site-packages (from matplotlib->stable-baselines3) (9.1.1)\n",
            "Requirement already satisfied: python-dateutil>=2.7 in c:\\users\\ahmad.alismail\\appdata\\local\\programs\\python\\python310\\lib\\site-packages (from matplotlib->stable-baselines3) (2.8.2)\n",
            "Requirement already satisfied: packaging>=20.0 in c:\\users\\ahmad.alismail\\appdata\\local\\programs\\python\\python310\\lib\\site-packages (from matplotlib->stable-baselines3) (21.3)\n",
            "Requirement already satisfied: pyparsing>=2.2.1 in c:\\users\\ahmad.alismail\\appdata\\local\\programs\\python\\python310\\lib\\site-packages (from matplotlib->stable-baselines3) (3.0.9)\n",
            "Requirement already satisfied: kiwisolver>=1.0.1 in c:\\users\\ahmad.alismail\\appdata\\local\\programs\\python\\python310\\lib\\site-packages (from matplotlib->stable-baselines3) (1.4.3)\n",
            "Requirement already satisfied: pytz>=2020.1 in c:\\users\\ahmad.alismail\\appdata\\local\\programs\\python\\python310\\lib\\site-packages (from pandas->stable-baselines3) (2022.1)\n",
            "Requirement already satisfied: six>=1.5 in c:\\users\\ahmad.alismail\\appdata\\local\\programs\\python\\python310\\lib\\site-packages (from python-dateutil>=2.7->matplotlib->stable-baselines3) (1.16.0)\n",
            "Building wheels for collected packages: gym\n",
            "  Building wheel for gym (setup.py): started\n",
            "  Building wheel for gym (setup.py): finished with status 'done'\n",
            "  Created wheel for gym: filename=gym-0.21.0-py3-none-any.whl size=1616824 sha256=b213335658b9679db1052146b16e919cee03f60f032232a474ef34a714cb8244\n",
            "  Stored in directory: c:\\users\\ahmad.alismail\\appdata\\local\\pip\\cache\\wheels\\81\\aa\\90\\b67df76370d3916a2189b662cf48da38ce41a4e7e58b6abff5\n",
            "Successfully built gym\n",
            "Installing collected packages: zipp, cloudpickle, importlib-metadata, gym, stable-baselines3\n",
            "Successfully installed cloudpickle-2.2.1 gym-0.21.0 importlib-metadata-4.13.0 stable-baselines3-1.7.0 zipp-3.12.0\n",
            "Note: you may need to restart the kernel to use updated packages.\n"
          ]
        },
        {
          "name": "stderr",
          "output_type": "stream",
          "text": [
            "WARNING: You are using pip version 22.0.4; however, version 23.0 is available.\n",
            "You should consider upgrading via the 'c:\\Users\\ahmad.alismail\\AppData\\Local\\Programs\\Python\\Python310\\python.exe -m pip install --upgrade pip' command.\n"
          ]
        }
      ],
      "source": [
        "%pip install stable-baselines3"
      ]
    },
    {
      "cell_type": "code",
      "execution_count": 2,
      "metadata": {
        "colab": {
          "base_uri": "https://localhost:8080/"
        },
        "id": "oexj67yWN5_k",
        "outputId": "3ed51244-9adb-4aca-fce1-ba39b57375be"
      },
      "outputs": [
        {
          "name": "stdout",
          "output_type": "stream",
          "text": [
            "Collecting sb3-contrib\n",
            "  Downloading sb3_contrib-1.7.0-py3-none-any.whl (79 kB)\n",
            "     ---------------------------------------- 79.1/79.1 KB 2.2 MB/s eta 0:00:00\n",
            "Requirement already satisfied: stable-baselines3>=1.7.0 in c:\\users\\ahmad.alismail\\appdata\\local\\programs\\python\\python310\\lib\\site-packages (from sb3-contrib) (1.7.0)\n",
            "Requirement already satisfied: cloudpickle in c:\\users\\ahmad.alismail\\appdata\\local\\programs\\python\\python310\\lib\\site-packages (from stable-baselines3>=1.7.0->sb3-contrib) (2.2.1)\n",
            "Requirement already satisfied: numpy in c:\\users\\ahmad.alismail\\appdata\\local\\programs\\python\\python310\\lib\\site-packages (from stable-baselines3>=1.7.0->sb3-contrib) (1.22.4)\n",
            "Requirement already satisfied: gym==0.21 in c:\\users\\ahmad.alismail\\appdata\\local\\programs\\python\\python310\\lib\\site-packages (from stable-baselines3>=1.7.0->sb3-contrib) (0.21.0)\n",
            "Requirement already satisfied: matplotlib in c:\\users\\ahmad.alismail\\appdata\\local\\programs\\python\\python310\\lib\\site-packages (from stable-baselines3>=1.7.0->sb3-contrib) (3.5.2)\n",
            "Requirement already satisfied: torch>=1.11 in c:\\users\\ahmad.alismail\\appdata\\local\\programs\\python\\python310\\lib\\site-packages (from stable-baselines3>=1.7.0->sb3-contrib) (1.11.0)\n",
            "Requirement already satisfied: importlib-metadata~=4.13 in c:\\users\\ahmad.alismail\\appdata\\local\\programs\\python\\python310\\lib\\site-packages (from stable-baselines3>=1.7.0->sb3-contrib) (4.13.0)\n",
            "Requirement already satisfied: pandas in c:\\users\\ahmad.alismail\\appdata\\local\\programs\\python\\python310\\lib\\site-packages (from stable-baselines3>=1.7.0->sb3-contrib) (1.4.2)\n",
            "Requirement already satisfied: zipp>=0.5 in c:\\users\\ahmad.alismail\\appdata\\local\\programs\\python\\python310\\lib\\site-packages (from importlib-metadata~=4.13->stable-baselines3>=1.7.0->sb3-contrib) (3.12.0)\n",
            "Requirement already satisfied: typing-extensions in c:\\users\\ahmad.alismail\\appdata\\local\\programs\\python\\python310\\lib\\site-packages (from torch>=1.11->stable-baselines3>=1.7.0->sb3-contrib) (4.2.0)\n",
            "Requirement already satisfied: cycler>=0.10 in c:\\users\\ahmad.alismail\\appdata\\local\\programs\\python\\python310\\lib\\site-packages (from matplotlib->stable-baselines3>=1.7.0->sb3-contrib) (0.11.0)\n",
            "Requirement already satisfied: packaging>=20.0 in c:\\users\\ahmad.alismail\\appdata\\local\\programs\\python\\python310\\lib\\site-packages (from matplotlib->stable-baselines3>=1.7.0->sb3-contrib) (21.3)\n",
            "Requirement already satisfied: pyparsing>=2.2.1 in c:\\users\\ahmad.alismail\\appdata\\local\\programs\\python\\python310\\lib\\site-packages (from matplotlib->stable-baselines3>=1.7.0->sb3-contrib) (3.0.9)\n",
            "Requirement already satisfied: python-dateutil>=2.7 in c:\\users\\ahmad.alismail\\appdata\\local\\programs\\python\\python310\\lib\\site-packages (from matplotlib->stable-baselines3>=1.7.0->sb3-contrib) (2.8.2)\n",
            "Requirement already satisfied: fonttools>=4.22.0 in c:\\users\\ahmad.alismail\\appdata\\local\\programs\\python\\python310\\lib\\site-packages (from matplotlib->stable-baselines3>=1.7.0->sb3-contrib) (4.33.3)\n",
            "Requirement already satisfied: kiwisolver>=1.0.1 in c:\\users\\ahmad.alismail\\appdata\\local\\programs\\python\\python310\\lib\\site-packages (from matplotlib->stable-baselines3>=1.7.0->sb3-contrib) (1.4.3)\n",
            "Requirement already satisfied: pillow>=6.2.0 in c:\\users\\ahmad.alismail\\appdata\\local\\programs\\python\\python310\\lib\\site-packages (from matplotlib->stable-baselines3>=1.7.0->sb3-contrib) (9.1.1)\n",
            "Requirement already satisfied: pytz>=2020.1 in c:\\users\\ahmad.alismail\\appdata\\local\\programs\\python\\python310\\lib\\site-packages (from pandas->stable-baselines3>=1.7.0->sb3-contrib) (2022.1)\n",
            "Requirement already satisfied: six>=1.5 in c:\\users\\ahmad.alismail\\appdata\\local\\programs\\python\\python310\\lib\\site-packages (from python-dateutil>=2.7->matplotlib->stable-baselines3>=1.7.0->sb3-contrib) (1.16.0)\n",
            "Installing collected packages: sb3-contrib\n",
            "Successfully installed sb3-contrib-1.7.0\n",
            "Note: you may need to restart the kernel to use updated packages.\n"
          ]
        },
        {
          "name": "stderr",
          "output_type": "stream",
          "text": [
            "WARNING: You are using pip version 22.0.4; however, version 23.0 is available.\n",
            "You should consider upgrading via the 'c:\\Users\\ahmad.alismail\\AppData\\Local\\Programs\\Python\\Python310\\python.exe -m pip install --upgrade pip' command.\n"
          ]
        }
      ],
      "source": [
        "# Optional: install SB3 contrib to have access to additional algorithms\n",
        "%pip install sb3-contrib"
      ]
    },
    {
      "cell_type": "code",
      "execution_count": 3,
      "metadata": {
        "colab": {
          "base_uri": "https://localhost:8080/"
        },
        "id": "NNah91r9x9EL",
        "outputId": "21e472fc-5b9e-4249-f6a8-2968930b1152"
      },
      "outputs": [
        {
          "name": "stdout",
          "output_type": "stream",
          "text": [
            "Collecting optuna\n",
            "  Downloading optuna-3.1.0-py3-none-any.whl (365 kB)\n",
            "     -------------------------------------- 365.3/365.3 KB 3.8 MB/s eta 0:00:00\n",
            "Collecting colorlog\n",
            "  Using cached colorlog-6.7.0-py2.py3-none-any.whl (11 kB)\n",
            "Requirement already satisfied: tqdm in c:\\users\\ahmad.alismail\\appdata\\local\\programs\\python\\python310\\lib\\site-packages (from optuna) (4.64.0)\n",
            "Collecting alembic>=1.5.0\n",
            "  Downloading alembic-1.9.2-py3-none-any.whl (210 kB)\n",
            "     ---------------------------------------- 210.6/210.6 KB ? eta 0:00:00\n",
            "Collecting sqlalchemy>=1.3.0\n",
            "  Downloading SQLAlchemy-2.0.1-cp310-cp310-win_amd64.whl (1.9 MB)\n",
            "     ---------------------------------------- 1.9/1.9 MB 17.8 MB/s eta 0:00:00\n",
            "Collecting cmaes>=0.9.1\n",
            "  Downloading cmaes-0.9.1-py3-none-any.whl (21 kB)\n",
            "Requirement already satisfied: packaging>=20.0 in c:\\users\\ahmad.alismail\\appdata\\local\\programs\\python\\python310\\lib\\site-packages (from optuna) (21.3)\n",
            "Requirement already satisfied: PyYAML in c:\\users\\ahmad.alismail\\appdata\\local\\programs\\python\\python310\\lib\\site-packages (from optuna) (6.0)\n",
            "Requirement already satisfied: numpy in c:\\users\\ahmad.alismail\\appdata\\local\\programs\\python\\python310\\lib\\site-packages (from optuna) (1.22.4)\n",
            "Collecting Mako\n",
            "  Using cached Mako-1.2.4-py3-none-any.whl (78 kB)\n",
            "Requirement already satisfied: pyparsing!=3.0.5,>=2.0.2 in c:\\users\\ahmad.alismail\\appdata\\local\\programs\\python\\python310\\lib\\site-packages (from packaging>=20.0->optuna) (3.0.9)\n",
            "Requirement already satisfied: typing-extensions>=4.2.0 in c:\\users\\ahmad.alismail\\appdata\\local\\programs\\python\\python310\\lib\\site-packages (from sqlalchemy>=1.3.0->optuna) (4.2.0)\n",
            "Collecting greenlet!=0.4.17\n",
            "  Downloading greenlet-2.0.2-cp310-cp310-win_amd64.whl (192 kB)\n",
            "     ------------------------------------- 192.2/192.2 KB 11.4 MB/s eta 0:00:00\n",
            "Requirement already satisfied: colorama in c:\\users\\ahmad.alismail\\appdata\\local\\programs\\python\\python310\\lib\\site-packages (from colorlog->optuna) (0.4.5)\n",
            "Requirement already satisfied: MarkupSafe>=0.9.2 in c:\\users\\ahmad.alismail\\appdata\\local\\programs\\python\\python310\\lib\\site-packages (from Mako->alembic>=1.5.0->optuna) (2.1.1)\n",
            "Installing collected packages: Mako, greenlet, colorlog, cmaes, sqlalchemy, alembic, optuna\n",
            "Successfully installed Mako-1.2.4 alembic-1.9.2 cmaes-0.9.1 colorlog-6.7.0 greenlet-2.0.2 optuna-3.1.0 sqlalchemy-2.0.1\n",
            "Note: you may need to restart the kernel to use updated packages.\n"
          ]
        },
        {
          "name": "stderr",
          "output_type": "stream",
          "text": [
            "WARNING: You are using pip version 22.0.4; however, version 23.0 is available.\n",
            "You should consider upgrading via the 'c:\\Users\\ahmad.alismail\\AppData\\Local\\Programs\\Python\\Python310\\python.exe -m pip install --upgrade pip' command.\n"
          ]
        }
      ],
      "source": [
        "# Optuna will be used in the last part when doing hyperparameter tuning\n",
        "%pip install optuna"
      ]
    },
    {
      "cell_type": "markdown",
      "metadata": {
        "id": "FtY8FhliLsGm"
      },
      "source": [
        "## Imports"
      ]
    },
    {
      "cell_type": "code",
      "execution_count": 4,
      "metadata": {
        "id": "BIedd7Pz9sOs"
      },
      "outputs": [],
      "source": [
        "import gym\n",
        "import numpy as np"
      ]
    },
    {
      "cell_type": "markdown",
      "metadata": {
        "id": "Ae32CtgzTG3R"
      },
      "source": [
        "The first thing you need to import is the RL model, check the documentation to know what you can use on which problem"
      ]
    },
    {
      "cell_type": "code",
      "execution_count": 5,
      "metadata": {
        "id": "R7tKaBFrTR0a"
      },
      "outputs": [
        {
          "name": "stderr",
          "output_type": "stream",
          "text": [
            "c:\\Users\\ahmad.alismail\\AppData\\Local\\Programs\\Python\\Python310\\lib\\site-packages\\tqdm\\auto.py:22: TqdmWarning: IProgress not found. Please update jupyter and ipywidgets. See https://ipywidgets.readthedocs.io/en/stable/user_install.html\n",
            "  from .autonotebook import tqdm as notebook_tqdm\n"
          ]
        }
      ],
      "source": [
        "from stable_baselines3 import PPO, A2C, SAC, TD3, DQN"
      ]
    },
    {
      "cell_type": "code",
      "execution_count": 6,
      "metadata": {
        "id": "EcsXmYRMON9W"
      },
      "outputs": [],
      "source": [
        "# Algorithms from the contrib repo\n",
        "# https://github.com/Stable-Baselines-Team/stable-baselines3-contrib\n",
        "from sb3_contrib import QRDQN, TQC"
      ]
    },
    {
      "cell_type": "code",
      "execution_count": 9,
      "metadata": {
        "id": "kLwjcfvuqtGE"
      },
      "outputs": [],
      "source": [
        "from stable_baselines3.common.env_util import make_vec_env\n",
        "from stable_baselines3.common.evaluation import evaluate_policy"
      ]
    },
    {
      "cell_type": "markdown",
      "metadata": {
        "id": "-khNkrgcI6Z1"
      },
      "source": [
        "# Part I: The Importance Of Tuned Hyperparameters\n",
        "\n"
      ]
    },
    {
      "cell_type": "markdown",
      "metadata": {
        "id": "PytOtL9GdmrE"
      },
      "source": [
        "When compared with Supervised Learning, Deep Reinforcement Learning is far more sensitive to the choice of hyper-parameters such as learning rate, number of neurons, number of layers, optimizer ... etc. \n",
        "\n",
        "Poor choice of hyper-parameters can lead to poor/unstable convergence. This challenge is compounded by the variability in performance across random seeds (used to initialize the network weights and the environment)."
      ]
    },
    {
      "cell_type": "markdown",
      "metadata": {
        "id": "Hk8HSIC3qUjc"
      },
      "source": [
        "In addition to hyperparameters, selecting the appropriate algorithm is also an important choice. We will demonstrate it on the simple Pendulum task.\n",
        "\n",
        "See [gym doc](https://gym.openai.com/envs/Pendulum-v0/): \"The inverted pendulum swingup problem is a classic problem in the control literature. In this version  of the problem, the pendulum starts in a random position, and the goal is to swing it up so it stays upright.\"\n",
        "\n",
        "\n",
        "Let's try first with PPO and a small budget of 4000 steps (20 episodes):"
      ]
    },
    {
      "cell_type": "code",
      "execution_count": 10,
      "metadata": {
        "id": "4ToIvihGq2N0"
      },
      "outputs": [],
      "source": [
        "env_id = \"Pendulum-v1\"\n",
        "# Env used only for evaluation\n",
        "eval_envs = make_vec_env(env_id, n_envs=10)\n",
        "# 4000 training timesteps\n",
        "budget_pendulum = 4000"
      ]
    },
    {
      "cell_type": "markdown",
      "metadata": {
        "id": "EWT2r6QE4yew"
      },
      "source": [
        "### PPO"
      ]
    },
    {
      "cell_type": "code",
      "execution_count": 11,
      "metadata": {
        "id": "KCHk_-_4ndux"
      },
      "outputs": [],
      "source": [
        "ppo_model = PPO(\"MlpPolicy\", env_id, seed=0, verbose=0).learn(budget_pendulum)"
      ]
    },
    {
      "cell_type": "code",
      "execution_count": 12,
      "metadata": {
        "colab": {
          "base_uri": "https://localhost:8080/"
        },
        "id": "TP9C9AqLndxz",
        "outputId": "c5955254-f6db-41ec-98ef-58f8d50d496f"
      },
      "outputs": [
        {
          "name": "stdout",
          "output_type": "stream",
          "text": [
            "PPO Mean episode reward: -1138.25 +/- 239.48\n"
          ]
        }
      ],
      "source": [
        "mean_reward, std_reward = evaluate_policy(ppo_model, eval_envs, n_eval_episodes=100, deterministic=True)\n",
        "\n",
        "print(f\"PPO Mean episode reward: {mean_reward:.2f} +/- {std_reward:.2f}\")"
      ]
    },
    {
      "cell_type": "markdown",
      "metadata": {
        "id": "uHmJaJLl5ds4"
      },
      "source": [
        "### A2C\n",
        "Since we've achieved bad performance with PPO algorithm, let's try A2C:"
      ]
    },
    {
      "cell_type": "code",
      "execution_count": 13,
      "metadata": {
        "id": "BLL_pws25jh0"
      },
      "outputs": [],
      "source": [
        "# Define and train a A2C model\n",
        "a2c_model = A2C(\"MlpPolicy\", env_id, seed=0, verbose=0).learn(budget_pendulum)"
      ]
    },
    {
      "cell_type": "code",
      "execution_count": 14,
      "metadata": {
        "colab": {
          "base_uri": "https://localhost:8080/"
        },
        "id": "ic83jZwB5nVk",
        "outputId": "5c49ec00-03dd-4a04-d89b-7b8974542325"
      },
      "outputs": [
        {
          "name": "stdout",
          "output_type": "stream",
          "text": [
            "A2C Mean episode reward: -1515.45 +/- 220.02\n"
          ]
        }
      ],
      "source": [
        "# Evaluate the train A2C model\n",
        "mean_reward, std_reward = evaluate_policy(a2c_model, eval_envs, n_eval_episodes=100, deterministic=True)\n",
        "\n",
        "print(f\"A2C Mean episode reward: {mean_reward:.2f} +/- {std_reward:.2f}\")"
      ]
    },
    {
      "cell_type": "markdown",
      "metadata": {
        "id": "0_z1zFx2rVpG"
      },
      "source": [
        "Both are far from solving the env (mean reward around -200).\n",
        "Now, let's try with an off-policy algorithm:"
      ]
    },
    {
      "cell_type": "markdown",
      "metadata": {
        "id": "3wYaVZJU5VL5"
      },
      "source": [
        "### Training longer PPO ?\n",
        "\n",
        "Maybe training longer would help?\n",
        "\n",
        "You can try with 10x the budget, but in the case of A2C/PPO, training longer won't help much, finding better hyperparameters is needed instead."
      ]
    },
    {
      "cell_type": "code",
      "execution_count": 15,
      "metadata": {
        "id": "hHsHpnQY6TWA"
      },
      "outputs": [],
      "source": [
        "# train longer\n",
        "new_budget = 10 * budget_pendulum\n",
        "\n",
        "ppo_model = PPO(\"MlpPolicy\", env_id, seed=0, verbose=0).learn(new_budget)"
      ]
    },
    {
      "cell_type": "code",
      "execution_count": 16,
      "metadata": {
        "colab": {
          "base_uri": "https://localhost:8080/"
        },
        "id": "7OD9y1o36Xta",
        "outputId": "9df28ad4-1c5d-4652-bc54-dccc72b299c0"
      },
      "outputs": [
        {
          "name": "stdout",
          "output_type": "stream",
          "text": [
            "PPO Mean episode reward: -1104.91 +/- 206.12\n"
          ]
        }
      ],
      "source": [
        "mean_reward, std_reward = evaluate_policy(ppo_model, eval_envs, n_eval_episodes=100, deterministic=True)\n",
        "\n",
        "print(f\"PPO Mean episode reward: {mean_reward:.2f} +/- {std_reward:.2f}\")"
      ]
    },
    {
      "cell_type": "markdown",
      "metadata": {
        "id": "M3ogn6Ru_tr6"
      },
      "source": [
        "> **IMPORTANT** Once you've realized that increasing the budget (i.e., number of training steps) is NOT ENOUGH to increase the performance, it's time to go towards tuning hyperparameters.\n"
      ]
    },
    {
      "cell_type": "markdown",
      "metadata": {
        "id": "YEvQ9SJ15Xmh"
      },
      "source": [
        "### PPO - Tuned Hyperparameters\n",
        "\n",
        "Using Optuna, we can in fact tune the hyperparameters and find a working solution (from the [RL Zoo](https://github.com/DLR-RM/rl-baselines3-zoo/blob/master/hyperparams/ppo.yml)):"
      ]
    },
    {
      "cell_type": "code",
      "execution_count": 17,
      "metadata": {
        "colab": {
          "base_uri": "https://localhost:8080/"
        },
        "id": "S-D_vvsb6jOZ",
        "outputId": "96b9548d-8441-4d61-e0c7-237a39ced14e"
      },
      "outputs": [
        {
          "name": "stdout",
          "output_type": "stream",
          "text": [
            "Using cpu device\n",
            "Creating environment from the given name 'Pendulum-v1'\n",
            "Wrapping the env with a `Monitor` wrapper\n",
            "Wrapping the env in a DummyVecEnv.\n",
            "----------------------------------------\n",
            "| rollout/                |            |\n",
            "|    ep_len_mean          | 200        |\n",
            "|    ep_rew_mean          | -1.19e+03  |\n",
            "| time/                   |            |\n",
            "|    fps                  | 1102       |\n",
            "|    iterations           | 5          |\n",
            "|    time_elapsed         | 9          |\n",
            "|    total_timesteps      | 10240      |\n",
            "| train/                  |            |\n",
            "|    approx_kl            | 0.02138275 |\n",
            "|    clip_fraction        | 0.231      |\n",
            "|    clip_range           | 0.2        |\n",
            "|    entropy_loss         | -2.66      |\n",
            "|    explained_variance   | 0.82       |\n",
            "|    learning_rate        | 0.001      |\n",
            "|    loss                 | 16.9       |\n",
            "|    n_updates            | 40         |\n",
            "|    policy_gradient_loss | -0.0194    |\n",
            "|    std                  | 0.897      |\n",
            "|    value_loss           | 41         |\n",
            "----------------------------------------\n",
            "-----------------------------------------\n",
            "| rollout/                |             |\n",
            "|    ep_len_mean          | 200         |\n",
            "|    ep_rew_mean          | -1.06e+03   |\n",
            "| time/                   |             |\n",
            "|    fps                  | 1038        |\n",
            "|    iterations           | 10          |\n",
            "|    time_elapsed         | 19          |\n",
            "|    total_timesteps      | 20480       |\n",
            "| train/                  |             |\n",
            "|    approx_kl            | 0.031149004 |\n",
            "|    clip_fraction        | 0.234       |\n",
            "|    clip_range           | 0.2         |\n",
            "|    entropy_loss         | -2.24       |\n",
            "|    explained_variance   | 0.968       |\n",
            "|    learning_rate        | 0.001       |\n",
            "|    loss                 | 2.68        |\n",
            "|    n_updates            | 90          |\n",
            "|    policy_gradient_loss | -0.0332     |\n",
            "|    std                  | 0.435       |\n",
            "|    value_loss           | 12.1        |\n",
            "-----------------------------------------\n",
            "----------------------------------------\n",
            "| rollout/                |            |\n",
            "|    ep_len_mean          | 200        |\n",
            "|    ep_rew_mean          | -658       |\n",
            "| time/                   |            |\n",
            "|    fps                  | 937        |\n",
            "|    iterations           | 15         |\n",
            "|    time_elapsed         | 32         |\n",
            "|    total_timesteps      | 30720      |\n",
            "| train/                  |            |\n",
            "|    approx_kl            | 0.04765488 |\n",
            "|    clip_fraction        | 0.381      |\n",
            "|    clip_range           | 0.2        |\n",
            "|    entropy_loss         | -1.58      |\n",
            "|    explained_variance   | 0.995      |\n",
            "|    learning_rate        | 0.001      |\n",
            "|    loss                 | 0.599      |\n",
            "|    n_updates            | 140        |\n",
            "|    policy_gradient_loss | -0.0202    |\n",
            "|    std                  | 0.287      |\n",
            "|    value_loss           | 1.79       |\n",
            "----------------------------------------\n",
            "-----------------------------------------\n",
            "| rollout/                |             |\n",
            "|    ep_len_mean          | 200         |\n",
            "|    ep_rew_mean          | -310        |\n",
            "| time/                   |             |\n",
            "|    fps                  | 907         |\n",
            "|    iterations           | 20          |\n",
            "|    time_elapsed         | 45          |\n",
            "|    total_timesteps      | 40960       |\n",
            "| train/                  |             |\n",
            "|    approx_kl            | 0.037350073 |\n",
            "|    clip_fraction        | 0.29        |\n",
            "|    clip_range           | 0.2         |\n",
            "|    entropy_loss         | -1.37       |\n",
            "|    explained_variance   | 0.997       |\n",
            "|    learning_rate        | 0.001       |\n",
            "|    loss                 | 0.519       |\n",
            "|    n_updates            | 190         |\n",
            "|    policy_gradient_loss | -0.0312     |\n",
            "|    std                  | 0.227       |\n",
            "|    value_loss           | 0.862       |\n",
            "-----------------------------------------\n",
            "----------------------------------------\n",
            "| rollout/                |            |\n",
            "|    ep_len_mean          | 200        |\n",
            "|    ep_rew_mean          | -197       |\n",
            "| time/                   |            |\n",
            "|    fps                  | 891        |\n",
            "|    iterations           | 25         |\n",
            "|    time_elapsed         | 57         |\n",
            "|    total_timesteps      | 51200      |\n",
            "| train/                  |            |\n",
            "|    approx_kl            | 0.10661859 |\n",
            "|    clip_fraction        | 0.294      |\n",
            "|    clip_range           | 0.2        |\n",
            "|    entropy_loss         | -1.07      |\n",
            "|    explained_variance   | 1          |\n",
            "|    learning_rate        | 0.001      |\n",
            "|    loss                 | -0.00995   |\n",
            "|    n_updates            | 240        |\n",
            "|    policy_gradient_loss | -0.0108    |\n",
            "|    std                  | 0.185      |\n",
            "|    value_loss           | 0.0518     |\n",
            "----------------------------------------\n"
          ]
        }
      ],
      "source": [
        "tuned_params = {\n",
        "    \"gamma\": 0.9,\n",
        "    \"use_sde\": True,\n",
        "    \"sde_sample_freq\": 4,\n",
        "    \"learning_rate\": 1e-3,\n",
        "}\n",
        "\n",
        "# budget = 10 * budget_pendulum\n",
        "ppo_tuned_model = PPO(\"MlpPolicy\", env_id, seed=1, verbose=1, **tuned_params).learn(50_000, log_interval=5)"
      ]
    },
    {
      "cell_type": "code",
      "execution_count": 18,
      "metadata": {
        "colab": {
          "base_uri": "https://localhost:8080/"
        },
        "id": "MLuxoLxt67xO",
        "outputId": "47512c13-8655-49d3-dc65-51686d430f69"
      },
      "outputs": [
        {
          "name": "stdout",
          "output_type": "stream",
          "text": [
            "Tuned PPO Mean episode reward: -256.25 +/- 244.06\n"
          ]
        }
      ],
      "source": [
        "mean_reward, std_reward = evaluate_policy(ppo_tuned_model, eval_envs, n_eval_episodes=100, deterministic=True)\n",
        "\n",
        "print(f\"Tuned PPO Mean episode reward: {mean_reward:.2f} +/- {std_reward:.2f}\")"
      ]
    },
    {
      "cell_type": "markdown",
      "metadata": {
        "id": "2H33u_apWPp5"
      },
      "source": [
        "Note: if you try SAC on the simple MountainCarContinuous environment, you will encounter some issues without tuned hyperparameters: https://github.com/rail-berkeley/softlearning/issues/76\n",
        "\n",
        "Simple environments can be challenging even for SOTA algorithms."
      ]
    },
    {
      "cell_type": "markdown",
      "metadata": {
        "id": "_vdpPJ04nebx"
      },
      "source": [
        "# Part II: Grad Student Descent\n"
      ]
    },
    {
      "cell_type": "markdown",
      "metadata": {
        "id": "n8PNN9kcgolk"
      },
      "source": [
        "### Challenge (10 minutes): \"Grad Student Descent\" \n",
        "The challenge is to find the best hyperparameters (max performance) for A2C on `CartPole-v1` with a limited budget of 20 000 training steps.\n",
        "\n",
        "\n",
        "Maximum reward: 500 on `CartPole-v1`\n",
        "\n",
        "The hyperparameters should work for different random seeds."
      ]
    },
    {
      "cell_type": "code",
      "execution_count": 19,
      "metadata": {
        "id": "s6aqxsini7H3"
      },
      "outputs": [],
      "source": [
        "budget = 20_000"
      ]
    },
    {
      "cell_type": "markdown",
      "metadata": {
        "id": "yDQ805DBi3KM"
      },
      "source": [
        "#### The baseline: default hyperparameters"
      ]
    },
    {
      "cell_type": "code",
      "execution_count": 20,
      "metadata": {
        "id": "pyOCKf4Vt-HK"
      },
      "outputs": [],
      "source": [
        "eval_envs_cartpole = make_vec_env(\"CartPole-v1\", n_envs=10)"
      ]
    },
    {
      "cell_type": "code",
      "execution_count": 21,
      "metadata": {
        "colab": {
          "base_uri": "https://localhost:8080/"
        },
        "id": "D1PSNGcsi2dP",
        "outputId": "330eb88c-f7fa-4e93-ef05-269612b5849e"
      },
      "outputs": [
        {
          "name": "stdout",
          "output_type": "stream",
          "text": [
            "Using cpu device\n",
            "Creating environment from the given name 'CartPole-v1'\n",
            "Wrapping the env with a `Monitor` wrapper\n",
            "Wrapping the env in a DummyVecEnv.\n",
            "------------------------------------\n",
            "| rollout/              |          |\n",
            "|    ep_len_mean        | 10.9     |\n",
            "|    ep_rew_mean        | 10.9     |\n",
            "| time/                 |          |\n",
            "|    fps                | 806      |\n",
            "|    iterations         | 100      |\n",
            "|    time_elapsed       | 0        |\n",
            "|    total_timesteps    | 500      |\n",
            "| train/                |          |\n",
            "|    entropy_loss       | -0.325   |\n",
            "|    explained_variance | 0.495    |\n",
            "|    learning_rate      | 0.0007   |\n",
            "|    n_updates          | 99       |\n",
            "|    policy_loss        | 0.311    |\n",
            "|    value_loss         | 4.87     |\n",
            "------------------------------------\n",
            "------------------------------------\n",
            "| rollout/              |          |\n",
            "|    ep_len_mean        | 10.8     |\n",
            "|    ep_rew_mean        | 10.8     |\n",
            "| time/                 |          |\n",
            "|    fps                | 807      |\n",
            "|    iterations         | 200      |\n",
            "|    time_elapsed       | 1        |\n",
            "|    total_timesteps    | 1000     |\n",
            "| train/                |          |\n",
            "|    entropy_loss       | -0.201   |\n",
            "|    explained_variance | 0.934    |\n",
            "|    learning_rate      | 0.0007   |\n",
            "|    n_updates          | 199      |\n",
            "|    policy_loss        | -0.0195  |\n",
            "|    value_loss         | 0.194    |\n",
            "------------------------------------\n",
            "------------------------------------\n",
            "| rollout/              |          |\n",
            "|    ep_len_mean        | 12.8     |\n",
            "|    ep_rew_mean        | 12.8     |\n",
            "| time/                 |          |\n",
            "|    fps                | 808      |\n",
            "|    iterations         | 300      |\n",
            "|    time_elapsed       | 1        |\n",
            "|    total_timesteps    | 1500     |\n",
            "| train/                |          |\n",
            "|    entropy_loss       | -0.692   |\n",
            "|    explained_variance | 0.22     |\n",
            "|    learning_rate      | 0.0007   |\n",
            "|    n_updates          | 299      |\n",
            "|    policy_loss        | 1.39     |\n",
            "|    value_loss         | 4.92     |\n",
            "------------------------------------\n",
            "------------------------------------\n",
            "| rollout/              |          |\n",
            "|    ep_len_mean        | 15.5     |\n",
            "|    ep_rew_mean        | 15.5     |\n",
            "| time/                 |          |\n",
            "|    fps                | 811      |\n",
            "|    iterations         | 400      |\n",
            "|    time_elapsed       | 2        |\n",
            "|    total_timesteps    | 2000     |\n",
            "| train/                |          |\n",
            "|    entropy_loss       | -0.676   |\n",
            "|    explained_variance | 0.00158  |\n",
            "|    learning_rate      | 0.0007   |\n",
            "|    n_updates          | 399      |\n",
            "|    policy_loss        | 1.79     |\n",
            "|    value_loss         | 7.42     |\n",
            "------------------------------------\n",
            "------------------------------------\n",
            "| rollout/              |          |\n",
            "|    ep_len_mean        | 18.8     |\n",
            "|    ep_rew_mean        | 18.8     |\n",
            "| time/                 |          |\n",
            "|    fps                | 811      |\n",
            "|    iterations         | 500      |\n",
            "|    time_elapsed       | 3        |\n",
            "|    total_timesteps    | 2500     |\n",
            "| train/                |          |\n",
            "|    entropy_loss       | -0.677   |\n",
            "|    explained_variance | -0.0782  |\n",
            "|    learning_rate      | 0.0007   |\n",
            "|    n_updates          | 499      |\n",
            "|    policy_loss        | 1.24     |\n",
            "|    value_loss         | 6.24     |\n",
            "------------------------------------\n",
            "------------------------------------\n",
            "| rollout/              |          |\n",
            "|    ep_len_mean        | 22.5     |\n",
            "|    ep_rew_mean        | 22.5     |\n",
            "| time/                 |          |\n",
            "|    fps                | 819      |\n",
            "|    iterations         | 600      |\n",
            "|    time_elapsed       | 3        |\n",
            "|    total_timesteps    | 3000     |\n",
            "| train/                |          |\n",
            "|    entropy_loss       | -0.544   |\n",
            "|    explained_variance | 0.00921  |\n",
            "|    learning_rate      | 0.0007   |\n",
            "|    n_updates          | 599      |\n",
            "|    policy_loss        | 1.4      |\n",
            "|    value_loss         | 5.73     |\n",
            "------------------------------------\n",
            "------------------------------------\n",
            "| rollout/              |          |\n",
            "|    ep_len_mean        | 25.7     |\n",
            "|    ep_rew_mean        | 25.7     |\n",
            "| time/                 |          |\n",
            "|    fps                | 823      |\n",
            "|    iterations         | 700      |\n",
            "|    time_elapsed       | 4        |\n",
            "|    total_timesteps    | 3500     |\n",
            "| train/                |          |\n",
            "|    entropy_loss       | -0.664   |\n",
            "|    explained_variance | -0.00296 |\n",
            "|    learning_rate      | 0.0007   |\n",
            "|    n_updates          | 699      |\n",
            "|    policy_loss        | 1.1      |\n",
            "|    value_loss         | 5.09     |\n",
            "------------------------------------\n",
            "------------------------------------\n",
            "| rollout/              |          |\n",
            "|    ep_len_mean        | 30.7     |\n",
            "|    ep_rew_mean        | 30.7     |\n",
            "| time/                 |          |\n",
            "|    fps                | 818      |\n",
            "|    iterations         | 800      |\n",
            "|    time_elapsed       | 4        |\n",
            "|    total_timesteps    | 4000     |\n",
            "| train/                |          |\n",
            "|    entropy_loss       | -0.625   |\n",
            "|    explained_variance | -0.0546  |\n",
            "|    learning_rate      | 0.0007   |\n",
            "|    n_updates          | 799      |\n",
            "|    policy_loss        | 1.11     |\n",
            "|    value_loss         | 4.45     |\n",
            "------------------------------------\n",
            "------------------------------------\n",
            "| rollout/              |          |\n",
            "|    ep_len_mean        | 34.6     |\n",
            "|    ep_rew_mean        | 34.6     |\n",
            "| time/                 |          |\n",
            "|    fps                | 821      |\n",
            "|    iterations         | 900      |\n",
            "|    time_elapsed       | 5        |\n",
            "|    total_timesteps    | 4500     |\n",
            "| train/                |          |\n",
            "|    entropy_loss       | -0.56    |\n",
            "|    explained_variance | 0.000964 |\n",
            "|    learning_rate      | 0.0007   |\n",
            "|    n_updates          | 899      |\n",
            "|    policy_loss        | 1.15     |\n",
            "|    value_loss         | 3.9      |\n",
            "------------------------------------\n",
            "------------------------------------\n",
            "| rollout/              |          |\n",
            "|    ep_len_mean        | 38.4     |\n",
            "|    ep_rew_mean        | 38.4     |\n",
            "| time/                 |          |\n",
            "|    fps                | 819      |\n",
            "|    iterations         | 1000     |\n",
            "|    time_elapsed       | 6        |\n",
            "|    total_timesteps    | 5000     |\n",
            "| train/                |          |\n",
            "|    entropy_loss       | -0.68    |\n",
            "|    explained_variance | 0.00128  |\n",
            "|    learning_rate      | 0.0007   |\n",
            "|    n_updates          | 999      |\n",
            "|    policy_loss        | 0.954    |\n",
            "|    value_loss         | 3.37     |\n",
            "------------------------------------\n",
            "------------------------------------\n",
            "| rollout/              |          |\n",
            "|    ep_len_mean        | 44.5     |\n",
            "|    ep_rew_mean        | 44.5     |\n",
            "| time/                 |          |\n",
            "|    fps                | 815      |\n",
            "|    iterations         | 1100     |\n",
            "|    time_elapsed       | 6        |\n",
            "|    total_timesteps    | 5500     |\n",
            "| train/                |          |\n",
            "|    entropy_loss       | -0.583   |\n",
            "|    explained_variance | 0.00281  |\n",
            "|    learning_rate      | 0.0007   |\n",
            "|    n_updates          | 1099     |\n",
            "|    policy_loss        | 1.01     |\n",
            "|    value_loss         | 2.9      |\n",
            "------------------------------------\n",
            "-------------------------------------\n",
            "| rollout/              |           |\n",
            "|    ep_len_mean        | 49.1      |\n",
            "|    ep_rew_mean        | 49.1      |\n",
            "| time/                 |           |\n",
            "|    fps                | 816       |\n",
            "|    iterations         | 1200      |\n",
            "|    time_elapsed       | 7         |\n",
            "|    total_timesteps    | 6000      |\n",
            "| train/                |           |\n",
            "|    entropy_loss       | -0.61     |\n",
            "|    explained_variance | -0.000983 |\n",
            "|    learning_rate      | 0.0007    |\n",
            "|    n_updates          | 1199      |\n",
            "|    policy_loss        | 0.785     |\n",
            "|    value_loss         | 2.44      |\n",
            "-------------------------------------\n",
            "------------------------------------\n",
            "| rollout/              |          |\n",
            "|    ep_len_mean        | 52.7     |\n",
            "|    ep_rew_mean        | 52.7     |\n",
            "| time/                 |          |\n",
            "|    fps                | 819      |\n",
            "|    iterations         | 1300     |\n",
            "|    time_elapsed       | 7        |\n",
            "|    total_timesteps    | 6500     |\n",
            "| train/                |          |\n",
            "|    entropy_loss       | -0.556   |\n",
            "|    explained_variance | -0.00225 |\n",
            "|    learning_rate      | 0.0007   |\n",
            "|    n_updates          | 1299     |\n",
            "|    policy_loss        | 0.434    |\n",
            "|    value_loss         | 2.02     |\n",
            "------------------------------------\n",
            "------------------------------------\n",
            "| rollout/              |          |\n",
            "|    ep_len_mean        | 57.9     |\n",
            "|    ep_rew_mean        | 57.9     |\n",
            "| time/                 |          |\n",
            "|    fps                | 821      |\n",
            "|    iterations         | 1400     |\n",
            "|    time_elapsed       | 8        |\n",
            "|    total_timesteps    | 7000     |\n",
            "| train/                |          |\n",
            "|    entropy_loss       | -0.548   |\n",
            "|    explained_variance | 0.000208 |\n",
            "|    learning_rate      | 0.0007   |\n",
            "|    n_updates          | 1399     |\n",
            "|    policy_loss        | 0.432    |\n",
            "|    value_loss         | 1.64     |\n",
            "------------------------------------\n",
            "------------------------------------\n",
            "| rollout/              |          |\n",
            "|    ep_len_mean        | 62.1     |\n",
            "|    ep_rew_mean        | 62.1     |\n",
            "| time/                 |          |\n",
            "|    fps                | 820      |\n",
            "|    iterations         | 1500     |\n",
            "|    time_elapsed       | 9        |\n",
            "|    total_timesteps    | 7500     |\n",
            "| train/                |          |\n",
            "|    entropy_loss       | -0.569   |\n",
            "|    explained_variance | 1.77e-05 |\n",
            "|    learning_rate      | 0.0007   |\n",
            "|    n_updates          | 1499     |\n",
            "|    policy_loss        | 0.539    |\n",
            "|    value_loss         | 1.31     |\n",
            "------------------------------------\n",
            "------------------------------------\n",
            "| rollout/              |          |\n",
            "|    ep_len_mean        | 66.1     |\n",
            "|    ep_rew_mean        | 66.1     |\n",
            "| time/                 |          |\n",
            "|    fps                | 823      |\n",
            "|    iterations         | 1600     |\n",
            "|    time_elapsed       | 9        |\n",
            "|    total_timesteps    | 8000     |\n",
            "| train/                |          |\n",
            "|    entropy_loss       | -0.463   |\n",
            "|    explained_variance | 0.000132 |\n",
            "|    learning_rate      | 0.0007   |\n",
            "|    n_updates          | 1599     |\n",
            "|    policy_loss        | 0.328    |\n",
            "|    value_loss         | 1.02     |\n",
            "------------------------------------\n",
            "------------------------------------\n",
            "| rollout/              |          |\n",
            "|    ep_len_mean        | 70.5     |\n",
            "|    ep_rew_mean        | 70.5     |\n",
            "| time/                 |          |\n",
            "|    fps                | 825      |\n",
            "|    iterations         | 1700     |\n",
            "|    time_elapsed       | 10       |\n",
            "|    total_timesteps    | 8500     |\n",
            "| train/                |          |\n",
            "|    entropy_loss       | -0.564   |\n",
            "|    explained_variance | 6.14e-06 |\n",
            "|    learning_rate      | 0.0007   |\n",
            "|    n_updates          | 1699     |\n",
            "|    policy_loss        | 0.239    |\n",
            "|    value_loss         | 0.761    |\n",
            "------------------------------------\n",
            "------------------------------------\n",
            "| rollout/              |          |\n",
            "|    ep_len_mean        | 75.1     |\n",
            "|    ep_rew_mean        | 75.1     |\n",
            "| time/                 |          |\n",
            "|    fps                | 825      |\n",
            "|    iterations         | 1800     |\n",
            "|    time_elapsed       | 10       |\n",
            "|    total_timesteps    | 9000     |\n",
            "| train/                |          |\n",
            "|    entropy_loss       | -0.624   |\n",
            "|    explained_variance | 0.000295 |\n",
            "|    learning_rate      | 0.0007   |\n",
            "|    n_updates          | 1799     |\n",
            "|    policy_loss        | 0.249    |\n",
            "|    value_loss         | 0.532    |\n",
            "------------------------------------\n",
            "-------------------------------------\n",
            "| rollout/              |           |\n",
            "|    ep_len_mean        | 79.3      |\n",
            "|    ep_rew_mean        | 79.3      |\n",
            "| time/                 |           |\n",
            "|    fps                | 826       |\n",
            "|    iterations         | 1900      |\n",
            "|    time_elapsed       | 11        |\n",
            "|    total_timesteps    | 9500      |\n",
            "| train/                |           |\n",
            "|    entropy_loss       | -0.539    |\n",
            "|    explained_variance | -2.38e-07 |\n",
            "|    learning_rate      | 0.0007    |\n",
            "|    n_updates          | 1899      |\n",
            "|    policy_loss        | 0.221     |\n",
            "|    value_loss         | 0.351     |\n",
            "-------------------------------------\n",
            "------------------------------------\n",
            "| rollout/              |          |\n",
            "|    ep_len_mean        | 83       |\n",
            "|    ep_rew_mean        | 83       |\n",
            "| time/                 |          |\n",
            "|    fps                | 828      |\n",
            "|    iterations         | 2000     |\n",
            "|    time_elapsed       | 12       |\n",
            "|    total_timesteps    | 10000    |\n",
            "| train/                |          |\n",
            "|    entropy_loss       | -0.401   |\n",
            "|    explained_variance | 5.63e-05 |\n",
            "|    learning_rate      | 0.0007   |\n",
            "|    n_updates          | 1999     |\n",
            "|    policy_loss        | 0.207    |\n",
            "|    value_loss         | 0.207    |\n",
            "------------------------------------\n",
            "------------------------------------\n",
            "| rollout/              |          |\n",
            "|    ep_len_mean        | 87.5     |\n",
            "|    ep_rew_mean        | 87.5     |\n",
            "| time/                 |          |\n",
            "|    fps                | 829      |\n",
            "|    iterations         | 2100     |\n",
            "|    time_elapsed       | 12       |\n",
            "|    total_timesteps    | 10500    |\n",
            "| train/                |          |\n",
            "|    entropy_loss       | -0.315   |\n",
            "|    explained_variance | 0.000275 |\n",
            "|    learning_rate      | 0.0007   |\n",
            "|    n_updates          | 2099     |\n",
            "|    policy_loss        | 0.244    |\n",
            "|    value_loss         | 0.0992   |\n",
            "------------------------------------\n",
            "------------------------------------\n",
            "| rollout/              |          |\n",
            "|    ep_len_mean        | 91.7     |\n",
            "|    ep_rew_mean        | 91.7     |\n",
            "| time/                 |          |\n",
            "|    fps                | 829      |\n",
            "|    iterations         | 2200     |\n",
            "|    time_elapsed       | 13       |\n",
            "|    total_timesteps    | 11000    |\n",
            "| train/                |          |\n",
            "|    entropy_loss       | -0.547   |\n",
            "|    explained_variance | 0        |\n",
            "|    learning_rate      | 0.0007   |\n",
            "|    n_updates          | 2199     |\n",
            "|    policy_loss        | 0.0704   |\n",
            "|    value_loss         | 0.0296   |\n",
            "------------------------------------\n",
            "------------------------------------\n",
            "| rollout/              |          |\n",
            "|    ep_len_mean        | 96.3     |\n",
            "|    ep_rew_mean        | 96.3     |\n",
            "| time/                 |          |\n",
            "|    fps                | 831      |\n",
            "|    iterations         | 2300     |\n",
            "|    time_elapsed       | 13       |\n",
            "|    total_timesteps    | 11500    |\n",
            "| train/                |          |\n",
            "|    entropy_loss       | -0.221   |\n",
            "|    explained_variance | 0.000258 |\n",
            "|    learning_rate      | 0.0007   |\n",
            "|    n_updates          | 2299     |\n",
            "|    policy_loss        | 0.0556   |\n",
            "|    value_loss         | 0.00158  |\n",
            "------------------------------------\n",
            "------------------------------------\n",
            "| rollout/              |          |\n",
            "|    ep_len_mean        | 99.4     |\n",
            "|    ep_rew_mean        | 99.4     |\n",
            "| time/                 |          |\n",
            "|    fps                | 831      |\n",
            "|    iterations         | 2400     |\n",
            "|    time_elapsed       | 14       |\n",
            "|    total_timesteps    | 12000    |\n",
            "| train/                |          |\n",
            "|    entropy_loss       | -0.509   |\n",
            "|    explained_variance | 0.00369  |\n",
            "|    learning_rate      | 0.0007   |\n",
            "|    n_updates          | 2399     |\n",
            "|    policy_loss        | 0.0011   |\n",
            "|    value_loss         | 7.48e-06 |\n",
            "------------------------------------\n",
            "------------------------------------\n",
            "| rollout/              |          |\n",
            "|    ep_len_mean        | 104      |\n",
            "|    ep_rew_mean        | 104      |\n",
            "| time/                 |          |\n",
            "|    fps                | 831      |\n",
            "|    iterations         | 2500     |\n",
            "|    time_elapsed       | 15       |\n",
            "|    total_timesteps    | 12500    |\n",
            "| train/                |          |\n",
            "|    entropy_loss       | -0.51    |\n",
            "|    explained_variance | 5.26e-05 |\n",
            "|    learning_rate      | 0.0007   |\n",
            "|    n_updates          | 2499     |\n",
            "|    policy_loss        | 0.000214 |\n",
            "|    value_loss         | 9.92e-07 |\n",
            "------------------------------------\n",
            "------------------------------------\n",
            "| rollout/              |          |\n",
            "|    ep_len_mean        | 110      |\n",
            "|    ep_rew_mean        | 110      |\n",
            "| time/                 |          |\n",
            "|    fps                | 831      |\n",
            "|    iterations         | 2600     |\n",
            "|    time_elapsed       | 15       |\n",
            "|    total_timesteps    | 13000    |\n",
            "| train/                |          |\n",
            "|    entropy_loss       | -0.416   |\n",
            "|    explained_variance | 0.00752  |\n",
            "|    learning_rate      | 0.0007   |\n",
            "|    n_updates          | 2599     |\n",
            "|    policy_loss        | 0.00159  |\n",
            "|    value_loss         | 2.94e-05 |\n",
            "------------------------------------\n",
            "-------------------------------------\n",
            "| rollout/              |           |\n",
            "|    ep_len_mean        | 113       |\n",
            "|    ep_rew_mean        | 113       |\n",
            "| time/                 |           |\n",
            "|    fps                | 831       |\n",
            "|    iterations         | 2700      |\n",
            "|    time_elapsed       | 16        |\n",
            "|    total_timesteps    | 13500     |\n",
            "| train/                |           |\n",
            "|    entropy_loss       | -0.528    |\n",
            "|    explained_variance | -0.000261 |\n",
            "|    learning_rate      | 0.0007    |\n",
            "|    n_updates          | 2699      |\n",
            "|    policy_loss        | 0.000396  |\n",
            "|    value_loss         | 1.18e-06  |\n",
            "-------------------------------------\n",
            "------------------------------------\n",
            "| rollout/              |          |\n",
            "|    ep_len_mean        | 117      |\n",
            "|    ep_rew_mean        | 117      |\n",
            "| time/                 |          |\n",
            "|    fps                | 829      |\n",
            "|    iterations         | 2800     |\n",
            "|    time_elapsed       | 16       |\n",
            "|    total_timesteps    | 14000    |\n",
            "| train/                |          |\n",
            "|    entropy_loss       | -0.481   |\n",
            "|    explained_variance | 0.000593 |\n",
            "|    learning_rate      | 0.0007   |\n",
            "|    n_updates          | 2799     |\n",
            "|    policy_loss        | 5.18e-05 |\n",
            "|    value_loss         | 2.28e-08 |\n",
            "------------------------------------\n",
            "------------------------------------\n",
            "| rollout/              |          |\n",
            "|    ep_len_mean        | 119      |\n",
            "|    ep_rew_mean        | 119      |\n",
            "| time/                 |          |\n",
            "|    fps                | 831      |\n",
            "|    iterations         | 2900     |\n",
            "|    time_elapsed       | 17       |\n",
            "|    total_timesteps    | 14500    |\n",
            "| train/                |          |\n",
            "|    entropy_loss       | -0.552   |\n",
            "|    explained_variance | nan      |\n",
            "|    learning_rate      | 0.0007   |\n",
            "|    n_updates          | 2899     |\n",
            "|    policy_loss        | -0       |\n",
            "|    value_loss         | 3.49e-11 |\n",
            "------------------------------------\n",
            "------------------------------------\n",
            "| rollout/              |          |\n",
            "|    ep_len_mean        | 127      |\n",
            "|    ep_rew_mean        | 127      |\n",
            "| time/                 |          |\n",
            "|    fps                | 831      |\n",
            "|    iterations         | 3000     |\n",
            "|    time_elapsed       | 18       |\n",
            "|    total_timesteps    | 15000    |\n",
            "| train/                |          |\n",
            "|    entropy_loss       | -0.538   |\n",
            "|    explained_variance | 0.0514   |\n",
            "|    learning_rate      | 0.0007   |\n",
            "|    n_updates          | 2999     |\n",
            "|    policy_loss        | 8.5e-05  |\n",
            "|    value_loss         | 1.2e-07  |\n",
            "------------------------------------\n",
            "------------------------------------\n",
            "| rollout/              |          |\n",
            "|    ep_len_mean        | 131      |\n",
            "|    ep_rew_mean        | 131      |\n",
            "| time/                 |          |\n",
            "|    fps                | 831      |\n",
            "|    iterations         | 3100     |\n",
            "|    time_elapsed       | 18       |\n",
            "|    total_timesteps    | 15500    |\n",
            "| train/                |          |\n",
            "|    entropy_loss       | -0.519   |\n",
            "|    explained_variance | 0.12     |\n",
            "|    learning_rate      | 0.0007   |\n",
            "|    n_updates          | 3099     |\n",
            "|    policy_loss        | 1.22e-05 |\n",
            "|    value_loss         | 6.4e-10  |\n",
            "------------------------------------\n",
            "------------------------------------\n",
            "| rollout/              |          |\n",
            "|    ep_len_mean        | 136      |\n",
            "|    ep_rew_mean        | 136      |\n",
            "| time/                 |          |\n",
            "|    fps                | 830      |\n",
            "|    iterations         | 3200     |\n",
            "|    time_elapsed       | 19       |\n",
            "|    total_timesteps    | 16000    |\n",
            "| train/                |          |\n",
            "|    entropy_loss       | -0.495   |\n",
            "|    explained_variance | 0.0787   |\n",
            "|    learning_rate      | 0.0007   |\n",
            "|    n_updates          | 3199     |\n",
            "|    policy_loss        | 9.88e-05 |\n",
            "|    value_loss         | 4.48e-08 |\n",
            "------------------------------------\n",
            "------------------------------------\n",
            "| rollout/              |          |\n",
            "|    ep_len_mean        | 138      |\n",
            "|    ep_rew_mean        | 138      |\n",
            "| time/                 |          |\n",
            "|    fps                | 830      |\n",
            "|    iterations         | 3300     |\n",
            "|    time_elapsed       | 19       |\n",
            "|    total_timesteps    | 16500    |\n",
            "| train/                |          |\n",
            "|    entropy_loss       | -0.458   |\n",
            "|    explained_variance | -4.21    |\n",
            "|    learning_rate      | 0.0007   |\n",
            "|    n_updates          | 3299     |\n",
            "|    policy_loss        | 2.98e-05 |\n",
            "|    value_loss         | 8.08e-08 |\n",
            "------------------------------------\n",
            "-------------------------------------\n",
            "| rollout/              |           |\n",
            "|    ep_len_mean        | 144       |\n",
            "|    ep_rew_mean        | 144       |\n",
            "| time/                 |           |\n",
            "|    fps                | 831       |\n",
            "|    iterations         | 3400      |\n",
            "|    time_elapsed       | 20        |\n",
            "|    total_timesteps    | 17000     |\n",
            "| train/                |           |\n",
            "|    entropy_loss       | -0.553    |\n",
            "|    explained_variance | -0.63     |\n",
            "|    learning_rate      | 0.0007    |\n",
            "|    n_updates          | 3399      |\n",
            "|    policy_loss        | -2.12e-05 |\n",
            "|    value_loss         | 2.48e-09  |\n",
            "-------------------------------------\n",
            "------------------------------------\n",
            "| rollout/              |          |\n",
            "|    ep_len_mean        | 149      |\n",
            "|    ep_rew_mean        | 149      |\n",
            "| time/                 |          |\n",
            "|    fps                | 830      |\n",
            "|    iterations         | 3500     |\n",
            "|    time_elapsed       | 21       |\n",
            "|    total_timesteps    | 17500    |\n",
            "| train/                |          |\n",
            "|    entropy_loss       | -0.479   |\n",
            "|    explained_variance | 0.128    |\n",
            "|    learning_rate      | 0.0007   |\n",
            "|    n_updates          | 3499     |\n",
            "|    policy_loss        | 0.0035   |\n",
            "|    value_loss         | 4.92e-05 |\n",
            "------------------------------------\n",
            "------------------------------------\n",
            "| rollout/              |          |\n",
            "|    ep_len_mean        | 152      |\n",
            "|    ep_rew_mean        | 152      |\n",
            "| time/                 |          |\n",
            "|    fps                | 829      |\n",
            "|    iterations         | 3600     |\n",
            "|    time_elapsed       | 21       |\n",
            "|    total_timesteps    | 18000    |\n",
            "| train/                |          |\n",
            "|    entropy_loss       | -0.509   |\n",
            "|    explained_variance | -84.1    |\n",
            "|    learning_rate      | 0.0007   |\n",
            "|    n_updates          | 3599     |\n",
            "|    policy_loss        | -5.78    |\n",
            "|    value_loss         | 443      |\n",
            "------------------------------------\n",
            "------------------------------------\n",
            "| rollout/              |          |\n",
            "|    ep_len_mean        | 153      |\n",
            "|    ep_rew_mean        | 153      |\n",
            "| time/                 |          |\n",
            "|    fps                | 829      |\n",
            "|    iterations         | 3700     |\n",
            "|    time_elapsed       | 22       |\n",
            "|    total_timesteps    | 18500    |\n",
            "| train/                |          |\n",
            "|    entropy_loss       | -0.507   |\n",
            "|    explained_variance | 0.32     |\n",
            "|    learning_rate      | 0.0007   |\n",
            "|    n_updates          | 3699     |\n",
            "|    policy_loss        | -0.0287  |\n",
            "|    value_loss         | 0.00883  |\n",
            "------------------------------------\n",
            "------------------------------------\n",
            "| rollout/              |          |\n",
            "|    ep_len_mean        | 154      |\n",
            "|    ep_rew_mean        | 154      |\n",
            "| time/                 |          |\n",
            "|    fps                | 830      |\n",
            "|    iterations         | 3800     |\n",
            "|    time_elapsed       | 22       |\n",
            "|    total_timesteps    | 19000    |\n",
            "| train/                |          |\n",
            "|    entropy_loss       | -0.437   |\n",
            "|    explained_variance | -4.28    |\n",
            "|    learning_rate      | 0.0007   |\n",
            "|    n_updates          | 3799     |\n",
            "|    policy_loss        | 0.0795   |\n",
            "|    value_loss         | 0.286    |\n",
            "------------------------------------\n",
            "------------------------------------\n",
            "| rollout/              |          |\n",
            "|    ep_len_mean        | 153      |\n",
            "|    ep_rew_mean        | 153      |\n",
            "| time/                 |          |\n",
            "|    fps                | 831      |\n",
            "|    iterations         | 3900     |\n",
            "|    time_elapsed       | 23       |\n",
            "|    total_timesteps    | 19500    |\n",
            "| train/                |          |\n",
            "|    entropy_loss       | -0.358   |\n",
            "|    explained_variance | -0.819   |\n",
            "|    learning_rate      | 0.0007   |\n",
            "|    n_updates          | 3899     |\n",
            "|    policy_loss        | -0.681   |\n",
            "|    value_loss         | 3.86     |\n",
            "------------------------------------\n",
            "------------------------------------\n",
            "| rollout/              |          |\n",
            "|    ep_len_mean        | 151      |\n",
            "|    ep_rew_mean        | 151      |\n",
            "| time/                 |          |\n",
            "|    fps                | 832      |\n",
            "|    iterations         | 4000     |\n",
            "|    time_elapsed       | 24       |\n",
            "|    total_timesteps    | 20000    |\n",
            "| train/                |          |\n",
            "|    entropy_loss       | -0.379   |\n",
            "|    explained_variance | 0.991    |\n",
            "|    learning_rate      | 0.0007   |\n",
            "|    n_updates          | 3999     |\n",
            "|    policy_loss        | -0.0253  |\n",
            "|    value_loss         | 0.0706   |\n",
            "------------------------------------\n"
          ]
        }
      ],
      "source": [
        "model = A2C(\"MlpPolicy\", \"CartPole-v1\", seed=8, verbose=1).learn(budget)"
      ]
    },
    {
      "cell_type": "code",
      "execution_count": 22,
      "metadata": {
        "colab": {
          "base_uri": "https://localhost:8080/"
        },
        "id": "2d3X0G0ng2OE",
        "outputId": "b1c03c15-4367-4749-fa96-f2d10ddb9236"
      },
      "outputs": [
        {
          "name": "stdout",
          "output_type": "stream",
          "text": [
            "mean_reward:97.62 +/- 53.24\n"
          ]
        }
      ],
      "source": [
        "mean_reward, std_reward = evaluate_policy(model, eval_envs_cartpole, n_eval_episodes=50, deterministic=True)\n",
        "\n",
        "print(f\"mean_reward:{mean_reward:.2f} +/- {std_reward:.2f}\")"
      ]
    },
    {
      "attachments": {},
      "cell_type": "markdown",
      "metadata": {
        "id": "B-fi1-oKnUI2"
      },
      "source": [
        "**Your goal is to beat that baseline and get closer to the optimal score of 500**\n",
        "> NOTE: Something is wrong in google colab since the model acheives the highest reward (`500.00 +/+ 0.00`) always"
      ]
    },
    {
      "cell_type": "markdown",
      "metadata": {
        "id": "qvq8zizok1X_"
      },
      "source": [
        "# Time to tune! \n",
        "What do we have to tune?\n",
        "* The network architecture\n",
        "* The activation function\n",
        "* Number of steps\n",
        "* The learning rate\n",
        "* The discount factor\n",
        "* ..."
      ]
    },
    {
      "cell_type": "code",
      "execution_count": 23,
      "metadata": {
        "id": "UaqCCH4gkRH_"
      },
      "outputs": [],
      "source": [
        "import torch.nn as nn"
      ]
    },
    {
      "cell_type": "code",
      "execution_count": 24,
      "metadata": {
        "colab": {
          "base_uri": "https://localhost:8080/"
        },
        "id": "uDUfeZcyjPKS",
        "outputId": "d3daf622-66a3-474e-ff80-f67ed838c878"
      },
      "outputs": [
        {
          "name": "stdout",
          "output_type": "stream",
          "text": [
            "Using cpu device\n",
            "Creating environment from the given name 'CartPole-v1'\n",
            "Wrapping the env with a `Monitor` wrapper\n",
            "Wrapping the env in a DummyVecEnv.\n",
            "------------------------------------\n",
            "| rollout/              |          |\n",
            "|    ep_len_mean        | 10.9     |\n",
            "|    ep_rew_mean        | 10.9     |\n",
            "| time/                 |          |\n",
            "|    fps                | 816      |\n",
            "|    iterations         | 100      |\n",
            "|    time_elapsed       | 0        |\n",
            "|    total_timesteps    | 500      |\n",
            "| train/                |          |\n",
            "|    entropy_loss       | -0.325   |\n",
            "|    explained_variance | 0.495    |\n",
            "|    learning_rate      | 0.0007   |\n",
            "|    n_updates          | 99       |\n",
            "|    policy_loss        | 0.311    |\n",
            "|    value_loss         | 4.87     |\n",
            "------------------------------------\n",
            "------------------------------------\n",
            "| rollout/              |          |\n",
            "|    ep_len_mean        | 10.8     |\n",
            "|    ep_rew_mean        | 10.8     |\n",
            "| time/                 |          |\n",
            "|    fps                | 818      |\n",
            "|    iterations         | 200      |\n",
            "|    time_elapsed       | 1        |\n",
            "|    total_timesteps    | 1000     |\n",
            "| train/                |          |\n",
            "|    entropy_loss       | -0.201   |\n",
            "|    explained_variance | 0.934    |\n",
            "|    learning_rate      | 0.0007   |\n",
            "|    n_updates          | 199      |\n",
            "|    policy_loss        | -0.0195  |\n",
            "|    value_loss         | 0.194    |\n",
            "------------------------------------\n",
            "------------------------------------\n",
            "| rollout/              |          |\n",
            "|    ep_len_mean        | 12.8     |\n",
            "|    ep_rew_mean        | 12.8     |\n",
            "| time/                 |          |\n",
            "|    fps                | 792      |\n",
            "|    iterations         | 300      |\n",
            "|    time_elapsed       | 1        |\n",
            "|    total_timesteps    | 1500     |\n",
            "| train/                |          |\n",
            "|    entropy_loss       | -0.692   |\n",
            "|    explained_variance | 0.22     |\n",
            "|    learning_rate      | 0.0007   |\n",
            "|    n_updates          | 299      |\n",
            "|    policy_loss        | 1.39     |\n",
            "|    value_loss         | 4.92     |\n",
            "------------------------------------\n",
            "------------------------------------\n",
            "| rollout/              |          |\n",
            "|    ep_len_mean        | 15.5     |\n",
            "|    ep_rew_mean        | 15.5     |\n",
            "| time/                 |          |\n",
            "|    fps                | 778      |\n",
            "|    iterations         | 400      |\n",
            "|    time_elapsed       | 2        |\n",
            "|    total_timesteps    | 2000     |\n",
            "| train/                |          |\n",
            "|    entropy_loss       | -0.676   |\n",
            "|    explained_variance | 0.00158  |\n",
            "|    learning_rate      | 0.0007   |\n",
            "|    n_updates          | 399      |\n",
            "|    policy_loss        | 1.79     |\n",
            "|    value_loss         | 7.42     |\n",
            "------------------------------------\n",
            "------------------------------------\n",
            "| rollout/              |          |\n",
            "|    ep_len_mean        | 18.8     |\n",
            "|    ep_rew_mean        | 18.8     |\n",
            "| time/                 |          |\n",
            "|    fps                | 780      |\n",
            "|    iterations         | 500      |\n",
            "|    time_elapsed       | 3        |\n",
            "|    total_timesteps    | 2500     |\n",
            "| train/                |          |\n",
            "|    entropy_loss       | -0.677   |\n",
            "|    explained_variance | -0.0782  |\n",
            "|    learning_rate      | 0.0007   |\n",
            "|    n_updates          | 499      |\n",
            "|    policy_loss        | 1.24     |\n",
            "|    value_loss         | 6.24     |\n",
            "------------------------------------\n",
            "------------------------------------\n",
            "| rollout/              |          |\n",
            "|    ep_len_mean        | 22.5     |\n",
            "|    ep_rew_mean        | 22.5     |\n",
            "| time/                 |          |\n",
            "|    fps                | 791      |\n",
            "|    iterations         | 600      |\n",
            "|    time_elapsed       | 3        |\n",
            "|    total_timesteps    | 3000     |\n",
            "| train/                |          |\n",
            "|    entropy_loss       | -0.544   |\n",
            "|    explained_variance | 0.00921  |\n",
            "|    learning_rate      | 0.0007   |\n",
            "|    n_updates          | 599      |\n",
            "|    policy_loss        | 1.4      |\n",
            "|    value_loss         | 5.73     |\n",
            "------------------------------------\n",
            "------------------------------------\n",
            "| rollout/              |          |\n",
            "|    ep_len_mean        | 25.7     |\n",
            "|    ep_rew_mean        | 25.7     |\n",
            "| time/                 |          |\n",
            "|    fps                | 798      |\n",
            "|    iterations         | 700      |\n",
            "|    time_elapsed       | 4        |\n",
            "|    total_timesteps    | 3500     |\n",
            "| train/                |          |\n",
            "|    entropy_loss       | -0.664   |\n",
            "|    explained_variance | -0.00296 |\n",
            "|    learning_rate      | 0.0007   |\n",
            "|    n_updates          | 699      |\n",
            "|    policy_loss        | 1.1      |\n",
            "|    value_loss         | 5.09     |\n",
            "------------------------------------\n",
            "------------------------------------\n",
            "| rollout/              |          |\n",
            "|    ep_len_mean        | 30.7     |\n",
            "|    ep_rew_mean        | 30.7     |\n",
            "| time/                 |          |\n",
            "|    fps                | 793      |\n",
            "|    iterations         | 800      |\n",
            "|    time_elapsed       | 5        |\n",
            "|    total_timesteps    | 4000     |\n",
            "| train/                |          |\n",
            "|    entropy_loss       | -0.625   |\n",
            "|    explained_variance | -0.0546  |\n",
            "|    learning_rate      | 0.0007   |\n",
            "|    n_updates          | 799      |\n",
            "|    policy_loss        | 1.11     |\n",
            "|    value_loss         | 4.45     |\n",
            "------------------------------------\n",
            "------------------------------------\n",
            "| rollout/              |          |\n",
            "|    ep_len_mean        | 34.6     |\n",
            "|    ep_rew_mean        | 34.6     |\n",
            "| time/                 |          |\n",
            "|    fps                | 798      |\n",
            "|    iterations         | 900      |\n",
            "|    time_elapsed       | 5        |\n",
            "|    total_timesteps    | 4500     |\n",
            "| train/                |          |\n",
            "|    entropy_loss       | -0.56    |\n",
            "|    explained_variance | 0.000964 |\n",
            "|    learning_rate      | 0.0007   |\n",
            "|    n_updates          | 899      |\n",
            "|    policy_loss        | 1.15     |\n",
            "|    value_loss         | 3.9      |\n",
            "------------------------------------\n",
            "------------------------------------\n",
            "| rollout/              |          |\n",
            "|    ep_len_mean        | 38.4     |\n",
            "|    ep_rew_mean        | 38.4     |\n",
            "| time/                 |          |\n",
            "|    fps                | 791      |\n",
            "|    iterations         | 1000     |\n",
            "|    time_elapsed       | 6        |\n",
            "|    total_timesteps    | 5000     |\n",
            "| train/                |          |\n",
            "|    entropy_loss       | -0.68    |\n",
            "|    explained_variance | 0.00128  |\n",
            "|    learning_rate      | 0.0007   |\n",
            "|    n_updates          | 999      |\n",
            "|    policy_loss        | 0.954    |\n",
            "|    value_loss         | 3.37     |\n",
            "------------------------------------\n",
            "------------------------------------\n",
            "| rollout/              |          |\n",
            "|    ep_len_mean        | 44.5     |\n",
            "|    ep_rew_mean        | 44.5     |\n",
            "| time/                 |          |\n",
            "|    fps                | 799      |\n",
            "|    iterations         | 1100     |\n",
            "|    time_elapsed       | 6        |\n",
            "|    total_timesteps    | 5500     |\n",
            "| train/                |          |\n",
            "|    entropy_loss       | -0.583   |\n",
            "|    explained_variance | 0.00281  |\n",
            "|    learning_rate      | 0.0007   |\n",
            "|    n_updates          | 1099     |\n",
            "|    policy_loss        | 1.01     |\n",
            "|    value_loss         | 2.9      |\n",
            "------------------------------------\n",
            "-------------------------------------\n",
            "| rollout/              |           |\n",
            "|    ep_len_mean        | 49.1      |\n",
            "|    ep_rew_mean        | 49.1      |\n",
            "| time/                 |           |\n",
            "|    fps                | 796       |\n",
            "|    iterations         | 1200      |\n",
            "|    time_elapsed       | 7         |\n",
            "|    total_timesteps    | 6000      |\n",
            "| train/                |           |\n",
            "|    entropy_loss       | -0.61     |\n",
            "|    explained_variance | -0.000983 |\n",
            "|    learning_rate      | 0.0007    |\n",
            "|    n_updates          | 1199      |\n",
            "|    policy_loss        | 0.785     |\n",
            "|    value_loss         | 2.44      |\n",
            "-------------------------------------\n",
            "------------------------------------\n",
            "| rollout/              |          |\n",
            "|    ep_len_mean        | 52.7     |\n",
            "|    ep_rew_mean        | 52.7     |\n",
            "| time/                 |          |\n",
            "|    fps                | 802      |\n",
            "|    iterations         | 1300     |\n",
            "|    time_elapsed       | 8        |\n",
            "|    total_timesteps    | 6500     |\n",
            "| train/                |          |\n",
            "|    entropy_loss       | -0.556   |\n",
            "|    explained_variance | -0.00225 |\n",
            "|    learning_rate      | 0.0007   |\n",
            "|    n_updates          | 1299     |\n",
            "|    policy_loss        | 0.434    |\n",
            "|    value_loss         | 2.02     |\n",
            "------------------------------------\n",
            "------------------------------------\n",
            "| rollout/              |          |\n",
            "|    ep_len_mean        | 57.9     |\n",
            "|    ep_rew_mean        | 57.9     |\n",
            "| time/                 |          |\n",
            "|    fps                | 804      |\n",
            "|    iterations         | 1400     |\n",
            "|    time_elapsed       | 8        |\n",
            "|    total_timesteps    | 7000     |\n",
            "| train/                |          |\n",
            "|    entropy_loss       | -0.548   |\n",
            "|    explained_variance | 0.000208 |\n",
            "|    learning_rate      | 0.0007   |\n",
            "|    n_updates          | 1399     |\n",
            "|    policy_loss        | 0.432    |\n",
            "|    value_loss         | 1.64     |\n",
            "------------------------------------\n",
            "------------------------------------\n",
            "| rollout/              |          |\n",
            "|    ep_len_mean        | 62.1     |\n",
            "|    ep_rew_mean        | 62.1     |\n",
            "| time/                 |          |\n",
            "|    fps                | 802      |\n",
            "|    iterations         | 1500     |\n",
            "|    time_elapsed       | 9        |\n",
            "|    total_timesteps    | 7500     |\n",
            "| train/                |          |\n",
            "|    entropy_loss       | -0.569   |\n",
            "|    explained_variance | 1.77e-05 |\n",
            "|    learning_rate      | 0.0007   |\n",
            "|    n_updates          | 1499     |\n",
            "|    policy_loss        | 0.539    |\n",
            "|    value_loss         | 1.31     |\n",
            "------------------------------------\n",
            "------------------------------------\n",
            "| rollout/              |          |\n",
            "|    ep_len_mean        | 66.1     |\n",
            "|    ep_rew_mean        | 66.1     |\n",
            "| time/                 |          |\n",
            "|    fps                | 799      |\n",
            "|    iterations         | 1600     |\n",
            "|    time_elapsed       | 10       |\n",
            "|    total_timesteps    | 8000     |\n",
            "| train/                |          |\n",
            "|    entropy_loss       | -0.463   |\n",
            "|    explained_variance | 0.000132 |\n",
            "|    learning_rate      | 0.0007   |\n",
            "|    n_updates          | 1599     |\n",
            "|    policy_loss        | 0.328    |\n",
            "|    value_loss         | 1.02     |\n",
            "------------------------------------\n",
            "------------------------------------\n",
            "| rollout/              |          |\n",
            "|    ep_len_mean        | 70.5     |\n",
            "|    ep_rew_mean        | 70.5     |\n",
            "| time/                 |          |\n",
            "|    fps                | 802      |\n",
            "|    iterations         | 1700     |\n",
            "|    time_elapsed       | 10       |\n",
            "|    total_timesteps    | 8500     |\n",
            "| train/                |          |\n",
            "|    entropy_loss       | -0.564   |\n",
            "|    explained_variance | 6.14e-06 |\n",
            "|    learning_rate      | 0.0007   |\n",
            "|    n_updates          | 1699     |\n",
            "|    policy_loss        | 0.239    |\n",
            "|    value_loss         | 0.761    |\n",
            "------------------------------------\n",
            "------------------------------------\n",
            "| rollout/              |          |\n",
            "|    ep_len_mean        | 75.1     |\n",
            "|    ep_rew_mean        | 75.1     |\n",
            "| time/                 |          |\n",
            "|    fps                | 806      |\n",
            "|    iterations         | 1800     |\n",
            "|    time_elapsed       | 11       |\n",
            "|    total_timesteps    | 9000     |\n",
            "| train/                |          |\n",
            "|    entropy_loss       | -0.624   |\n",
            "|    explained_variance | 0.000295 |\n",
            "|    learning_rate      | 0.0007   |\n",
            "|    n_updates          | 1799     |\n",
            "|    policy_loss        | 0.249    |\n",
            "|    value_loss         | 0.532    |\n",
            "------------------------------------\n",
            "-------------------------------------\n",
            "| rollout/              |           |\n",
            "|    ep_len_mean        | 79.3      |\n",
            "|    ep_rew_mean        | 79.3      |\n",
            "| time/                 |           |\n",
            "|    fps                | 811       |\n",
            "|    iterations         | 1900      |\n",
            "|    time_elapsed       | 11        |\n",
            "|    total_timesteps    | 9500      |\n",
            "| train/                |           |\n",
            "|    entropy_loss       | -0.539    |\n",
            "|    explained_variance | -2.38e-07 |\n",
            "|    learning_rate      | 0.0007    |\n",
            "|    n_updates          | 1899      |\n",
            "|    policy_loss        | 0.221     |\n",
            "|    value_loss         | 0.351     |\n",
            "-------------------------------------\n",
            "------------------------------------\n",
            "| rollout/              |          |\n",
            "|    ep_len_mean        | 83       |\n",
            "|    ep_rew_mean        | 83       |\n",
            "| time/                 |          |\n",
            "|    fps                | 813      |\n",
            "|    iterations         | 2000     |\n",
            "|    time_elapsed       | 12       |\n",
            "|    total_timesteps    | 10000    |\n",
            "| train/                |          |\n",
            "|    entropy_loss       | -0.401   |\n",
            "|    explained_variance | 5.63e-05 |\n",
            "|    learning_rate      | 0.0007   |\n",
            "|    n_updates          | 1999     |\n",
            "|    policy_loss        | 0.207    |\n",
            "|    value_loss         | 0.207    |\n",
            "------------------------------------\n",
            "------------------------------------\n",
            "| rollout/              |          |\n",
            "|    ep_len_mean        | 87.5     |\n",
            "|    ep_rew_mean        | 87.5     |\n",
            "| time/                 |          |\n",
            "|    fps                | 814      |\n",
            "|    iterations         | 2100     |\n",
            "|    time_elapsed       | 12       |\n",
            "|    total_timesteps    | 10500    |\n",
            "| train/                |          |\n",
            "|    entropy_loss       | -0.315   |\n",
            "|    explained_variance | 0.000275 |\n",
            "|    learning_rate      | 0.0007   |\n",
            "|    n_updates          | 2099     |\n",
            "|    policy_loss        | 0.244    |\n",
            "|    value_loss         | 0.0992   |\n",
            "------------------------------------\n",
            "------------------------------------\n",
            "| rollout/              |          |\n",
            "|    ep_len_mean        | 91.7     |\n",
            "|    ep_rew_mean        | 91.7     |\n",
            "| time/                 |          |\n",
            "|    fps                | 814      |\n",
            "|    iterations         | 2200     |\n",
            "|    time_elapsed       | 13       |\n",
            "|    total_timesteps    | 11000    |\n",
            "| train/                |          |\n",
            "|    entropy_loss       | -0.547   |\n",
            "|    explained_variance | 0        |\n",
            "|    learning_rate      | 0.0007   |\n",
            "|    n_updates          | 2199     |\n",
            "|    policy_loss        | 0.0704   |\n",
            "|    value_loss         | 0.0296   |\n",
            "------------------------------------\n",
            "------------------------------------\n",
            "| rollout/              |          |\n",
            "|    ep_len_mean        | 96.3     |\n",
            "|    ep_rew_mean        | 96.3     |\n",
            "| time/                 |          |\n",
            "|    fps                | 817      |\n",
            "|    iterations         | 2300     |\n",
            "|    time_elapsed       | 14       |\n",
            "|    total_timesteps    | 11500    |\n",
            "| train/                |          |\n",
            "|    entropy_loss       | -0.221   |\n",
            "|    explained_variance | 0.000258 |\n",
            "|    learning_rate      | 0.0007   |\n",
            "|    n_updates          | 2299     |\n",
            "|    policy_loss        | 0.0556   |\n",
            "|    value_loss         | 0.00158  |\n",
            "------------------------------------\n",
            "------------------------------------\n",
            "| rollout/              |          |\n",
            "|    ep_len_mean        | 99.4     |\n",
            "|    ep_rew_mean        | 99.4     |\n",
            "| time/                 |          |\n",
            "|    fps                | 818      |\n",
            "|    iterations         | 2400     |\n",
            "|    time_elapsed       | 14       |\n",
            "|    total_timesteps    | 12000    |\n",
            "| train/                |          |\n",
            "|    entropy_loss       | -0.509   |\n",
            "|    explained_variance | 0.00369  |\n",
            "|    learning_rate      | 0.0007   |\n",
            "|    n_updates          | 2399     |\n",
            "|    policy_loss        | 0.0011   |\n",
            "|    value_loss         | 7.48e-06 |\n",
            "------------------------------------\n",
            "------------------------------------\n",
            "| rollout/              |          |\n",
            "|    ep_len_mean        | 104      |\n",
            "|    ep_rew_mean        | 104      |\n",
            "| time/                 |          |\n",
            "|    fps                | 817      |\n",
            "|    iterations         | 2500     |\n",
            "|    time_elapsed       | 15       |\n",
            "|    total_timesteps    | 12500    |\n",
            "| train/                |          |\n",
            "|    entropy_loss       | -0.51    |\n",
            "|    explained_variance | 5.26e-05 |\n",
            "|    learning_rate      | 0.0007   |\n",
            "|    n_updates          | 2499     |\n",
            "|    policy_loss        | 0.000214 |\n",
            "|    value_loss         | 9.92e-07 |\n",
            "------------------------------------\n",
            "------------------------------------\n",
            "| rollout/              |          |\n",
            "|    ep_len_mean        | 110      |\n",
            "|    ep_rew_mean        | 110      |\n",
            "| time/                 |          |\n",
            "|    fps                | 821      |\n",
            "|    iterations         | 2600     |\n",
            "|    time_elapsed       | 15       |\n",
            "|    total_timesteps    | 13000    |\n",
            "| train/                |          |\n",
            "|    entropy_loss       | -0.416   |\n",
            "|    explained_variance | 0.00752  |\n",
            "|    learning_rate      | 0.0007   |\n",
            "|    n_updates          | 2599     |\n",
            "|    policy_loss        | 0.00159  |\n",
            "|    value_loss         | 2.94e-05 |\n",
            "------------------------------------\n",
            "-------------------------------------\n",
            "| rollout/              |           |\n",
            "|    ep_len_mean        | 113       |\n",
            "|    ep_rew_mean        | 113       |\n",
            "| time/                 |           |\n",
            "|    fps                | 822       |\n",
            "|    iterations         | 2700      |\n",
            "|    time_elapsed       | 16        |\n",
            "|    total_timesteps    | 13500     |\n",
            "| train/                |           |\n",
            "|    entropy_loss       | -0.528    |\n",
            "|    explained_variance | -0.000261 |\n",
            "|    learning_rate      | 0.0007    |\n",
            "|    n_updates          | 2699      |\n",
            "|    policy_loss        | 0.000396  |\n",
            "|    value_loss         | 1.18e-06  |\n",
            "-------------------------------------\n",
            "------------------------------------\n",
            "| rollout/              |          |\n",
            "|    ep_len_mean        | 117      |\n",
            "|    ep_rew_mean        | 117      |\n",
            "| time/                 |          |\n",
            "|    fps                | 823      |\n",
            "|    iterations         | 2800     |\n",
            "|    time_elapsed       | 16       |\n",
            "|    total_timesteps    | 14000    |\n",
            "| train/                |          |\n",
            "|    entropy_loss       | -0.481   |\n",
            "|    explained_variance | 0.000593 |\n",
            "|    learning_rate      | 0.0007   |\n",
            "|    n_updates          | 2799     |\n",
            "|    policy_loss        | 5.18e-05 |\n",
            "|    value_loss         | 2.28e-08 |\n",
            "------------------------------------\n",
            "------------------------------------\n",
            "| rollout/              |          |\n",
            "|    ep_len_mean        | 119      |\n",
            "|    ep_rew_mean        | 119      |\n",
            "| time/                 |          |\n",
            "|    fps                | 823      |\n",
            "|    iterations         | 2900     |\n",
            "|    time_elapsed       | 17       |\n",
            "|    total_timesteps    | 14500    |\n",
            "| train/                |          |\n",
            "|    entropy_loss       | -0.552   |\n",
            "|    explained_variance | nan      |\n",
            "|    learning_rate      | 0.0007   |\n",
            "|    n_updates          | 2899     |\n",
            "|    policy_loss        | -0       |\n",
            "|    value_loss         | 3.49e-11 |\n",
            "------------------------------------\n",
            "------------------------------------\n",
            "| rollout/              |          |\n",
            "|    ep_len_mean        | 127      |\n",
            "|    ep_rew_mean        | 127      |\n",
            "| time/                 |          |\n",
            "|    fps                | 824      |\n",
            "|    iterations         | 3000     |\n",
            "|    time_elapsed       | 18       |\n",
            "|    total_timesteps    | 15000    |\n",
            "| train/                |          |\n",
            "|    entropy_loss       | -0.538   |\n",
            "|    explained_variance | 0.0514   |\n",
            "|    learning_rate      | 0.0007   |\n",
            "|    n_updates          | 2999     |\n",
            "|    policy_loss        | 8.5e-05  |\n",
            "|    value_loss         | 1.2e-07  |\n",
            "------------------------------------\n",
            "------------------------------------\n",
            "| rollout/              |          |\n",
            "|    ep_len_mean        | 131      |\n",
            "|    ep_rew_mean        | 131      |\n",
            "| time/                 |          |\n",
            "|    fps                | 824      |\n",
            "|    iterations         | 3100     |\n",
            "|    time_elapsed       | 18       |\n",
            "|    total_timesteps    | 15500    |\n",
            "| train/                |          |\n",
            "|    entropy_loss       | -0.519   |\n",
            "|    explained_variance | 0.12     |\n",
            "|    learning_rate      | 0.0007   |\n",
            "|    n_updates          | 3099     |\n",
            "|    policy_loss        | 1.22e-05 |\n",
            "|    value_loss         | 6.4e-10  |\n",
            "------------------------------------\n",
            "------------------------------------\n",
            "| rollout/              |          |\n",
            "|    ep_len_mean        | 136      |\n",
            "|    ep_rew_mean        | 136      |\n",
            "| time/                 |          |\n",
            "|    fps                | 825      |\n",
            "|    iterations         | 3200     |\n",
            "|    time_elapsed       | 19       |\n",
            "|    total_timesteps    | 16000    |\n",
            "| train/                |          |\n",
            "|    entropy_loss       | -0.495   |\n",
            "|    explained_variance | 0.0787   |\n",
            "|    learning_rate      | 0.0007   |\n",
            "|    n_updates          | 3199     |\n",
            "|    policy_loss        | 9.88e-05 |\n",
            "|    value_loss         | 4.48e-08 |\n",
            "------------------------------------\n",
            "------------------------------------\n",
            "| rollout/              |          |\n",
            "|    ep_len_mean        | 138      |\n",
            "|    ep_rew_mean        | 138      |\n",
            "| time/                 |          |\n",
            "|    fps                | 826      |\n",
            "|    iterations         | 3300     |\n",
            "|    time_elapsed       | 19       |\n",
            "|    total_timesteps    | 16500    |\n",
            "| train/                |          |\n",
            "|    entropy_loss       | -0.458   |\n",
            "|    explained_variance | -4.21    |\n",
            "|    learning_rate      | 0.0007   |\n",
            "|    n_updates          | 3299     |\n",
            "|    policy_loss        | 2.98e-05 |\n",
            "|    value_loss         | 8.08e-08 |\n",
            "------------------------------------\n",
            "-------------------------------------\n",
            "| rollout/              |           |\n",
            "|    ep_len_mean        | 144       |\n",
            "|    ep_rew_mean        | 144       |\n",
            "| time/                 |           |\n",
            "|    fps                | 828       |\n",
            "|    iterations         | 3400      |\n",
            "|    time_elapsed       | 20        |\n",
            "|    total_timesteps    | 17000     |\n",
            "| train/                |           |\n",
            "|    entropy_loss       | -0.553    |\n",
            "|    explained_variance | -0.63     |\n",
            "|    learning_rate      | 0.0007    |\n",
            "|    n_updates          | 3399      |\n",
            "|    policy_loss        | -2.12e-05 |\n",
            "|    value_loss         | 2.48e-09  |\n",
            "-------------------------------------\n",
            "------------------------------------\n",
            "| rollout/              |          |\n",
            "|    ep_len_mean        | 149      |\n",
            "|    ep_rew_mean        | 149      |\n",
            "| time/                 |          |\n",
            "|    fps                | 830      |\n",
            "|    iterations         | 3500     |\n",
            "|    time_elapsed       | 21       |\n",
            "|    total_timesteps    | 17500    |\n",
            "| train/                |          |\n",
            "|    entropy_loss       | -0.479   |\n",
            "|    explained_variance | 0.128    |\n",
            "|    learning_rate      | 0.0007   |\n",
            "|    n_updates          | 3499     |\n",
            "|    policy_loss        | 0.0035   |\n",
            "|    value_loss         | 4.92e-05 |\n",
            "------------------------------------\n",
            "------------------------------------\n",
            "| rollout/              |          |\n",
            "|    ep_len_mean        | 152      |\n",
            "|    ep_rew_mean        | 152      |\n",
            "| time/                 |          |\n",
            "|    fps                | 829      |\n",
            "|    iterations         | 3600     |\n",
            "|    time_elapsed       | 21       |\n",
            "|    total_timesteps    | 18000    |\n",
            "| train/                |          |\n",
            "|    entropy_loss       | -0.509   |\n",
            "|    explained_variance | -84.1    |\n",
            "|    learning_rate      | 0.0007   |\n",
            "|    n_updates          | 3599     |\n",
            "|    policy_loss        | -5.78    |\n",
            "|    value_loss         | 443      |\n",
            "------------------------------------\n",
            "------------------------------------\n",
            "| rollout/              |          |\n",
            "|    ep_len_mean        | 153      |\n",
            "|    ep_rew_mean        | 153      |\n",
            "| time/                 |          |\n",
            "|    fps                | 828      |\n",
            "|    iterations         | 3700     |\n",
            "|    time_elapsed       | 22       |\n",
            "|    total_timesteps    | 18500    |\n",
            "| train/                |          |\n",
            "|    entropy_loss       | -0.507   |\n",
            "|    explained_variance | 0.32     |\n",
            "|    learning_rate      | 0.0007   |\n",
            "|    n_updates          | 3699     |\n",
            "|    policy_loss        | -0.0287  |\n",
            "|    value_loss         | 0.00883  |\n",
            "------------------------------------\n",
            "------------------------------------\n",
            "| rollout/              |          |\n",
            "|    ep_len_mean        | 154      |\n",
            "|    ep_rew_mean        | 154      |\n",
            "| time/                 |          |\n",
            "|    fps                | 828      |\n",
            "|    iterations         | 3800     |\n",
            "|    time_elapsed       | 22       |\n",
            "|    total_timesteps    | 19000    |\n",
            "| train/                |          |\n",
            "|    entropy_loss       | -0.437   |\n",
            "|    explained_variance | -4.28    |\n",
            "|    learning_rate      | 0.0007   |\n",
            "|    n_updates          | 3799     |\n",
            "|    policy_loss        | 0.0795   |\n",
            "|    value_loss         | 0.286    |\n",
            "------------------------------------\n",
            "------------------------------------\n",
            "| rollout/              |          |\n",
            "|    ep_len_mean        | 153      |\n",
            "|    ep_rew_mean        | 153      |\n",
            "| time/                 |          |\n",
            "|    fps                | 829      |\n",
            "|    iterations         | 3900     |\n",
            "|    time_elapsed       | 23       |\n",
            "|    total_timesteps    | 19500    |\n",
            "| train/                |          |\n",
            "|    entropy_loss       | -0.358   |\n",
            "|    explained_variance | -0.819   |\n",
            "|    learning_rate      | 0.0007   |\n",
            "|    n_updates          | 3899     |\n",
            "|    policy_loss        | -0.681   |\n",
            "|    value_loss         | 3.86     |\n",
            "------------------------------------\n",
            "------------------------------------\n",
            "| rollout/              |          |\n",
            "|    ep_len_mean        | 151      |\n",
            "|    ep_rew_mean        | 151      |\n",
            "| time/                 |          |\n",
            "|    fps                | 828      |\n",
            "|    iterations         | 4000     |\n",
            "|    time_elapsed       | 24       |\n",
            "|    total_timesteps    | 20000    |\n",
            "| train/                |          |\n",
            "|    entropy_loss       | -0.379   |\n",
            "|    explained_variance | 0.991    |\n",
            "|    learning_rate      | 0.0007   |\n",
            "|    n_updates          | 3999     |\n",
            "|    policy_loss        | -0.0253  |\n",
            "|    value_loss         | 0.0706   |\n",
            "------------------------------------\n"
          ]
        }
      ],
      "source": [
        "policy_kwargs = dict(\n",
        "    net_arch=[\n",
        "      dict(vf=[64, 64], pi=[64, 64]), # network architectures for actor/critic\n",
        "    ],\n",
        "    activation_fn=nn.Tanh,\n",
        ")\n",
        "\n",
        "hyperparams = dict(\n",
        "    n_steps=5, # number of steps to collect data before updating policy\n",
        "    learning_rate=7e-4,\n",
        "    gamma=0.99, # discount factor (the smaller gammar is, the more we favor the immediate reward)\n",
        "    max_grad_norm=0.5, # The maximum value for the gradient clipping\n",
        "    ent_coef=0.0, # Entropy coefficient for the loss calculation (This will favor exploration if you give a higher value)\n",
        ")\n",
        "\n",
        "model = A2C(\"MlpPolicy\", \"CartPole-v1\", seed=8, verbose=1, **hyperparams).learn(budget)"
      ]
    },
    {
      "cell_type": "code",
      "execution_count": 25,
      "metadata": {
        "colab": {
          "base_uri": "https://localhost:8080/"
        },
        "id": "Ko32HsZo8ObB",
        "outputId": "4071b021-31f4-4200-973c-9ab74fd3e8ad"
      },
      "outputs": [
        {
          "name": "stdout",
          "output_type": "stream",
          "text": [
            "mean_reward:111.94 +/- 79.40\n"
          ]
        }
      ],
      "source": [
        "mean_reward, std_reward = evaluate_policy(model, eval_envs_cartpole, n_eval_episodes=50, deterministic=True)\n",
        "\n",
        "print(f\"mean_reward:{mean_reward:.2f} +/- {std_reward:.2f}\")"
      ]
    },
    {
      "cell_type": "markdown",
      "metadata": {
        "id": "iL_G9DurUV75"
      },
      "source": [
        "Hint - Recommended Hyperparameter Range\n",
        "\n",
        "```python\n",
        "gamma = trial.suggest_float(\"gamma\", 0.9, 0.99999, log=True)\n",
        "max_grad_norm = trial.suggest_float(\"max_grad_norm\", 0.3, 5.0, log=True)\n",
        "# from 2**3 = 8 to 2**10 = 1024\n",
        "n_steps = 2 ** trial.suggest_int(\"exponent_n_steps\", 3, 10)\n",
        "learning_rate = trial.suggest_float(\"lr\", 1e-5, 1, log=True)\n",
        "ent_coef = trial.suggest_float(\"ent_coef\", 0.00000001, 0.1, log=True)\n",
        "# net_arch tiny: {\"pi\": [64], \"vf\": [64]}\n",
        "# net_arch default: {\"pi\": [64, 64], \"vf\": [64, 64]}\n",
        "# activation_fn = nn.Tanh / nn.ReLU\n",
        "```"
      ]
    },
    {
      "cell_type": "markdown",
      "metadata": {
        "id": "QwFOp0j-ga-_"
      },
      "source": [
        "# Part III: Automatic Hyperparameter Tuning\n",
        "\n",
        "\n",
        "\n"
      ]
    },
    {
      "cell_type": "markdown",
      "metadata": {
        "id": "88x7wMyyud5p"
      },
      "source": [
        "In this part we will create a script that allows to search for the best hyperparameters automatically."
      ]
    },
    {
      "cell_type": "markdown",
      "metadata": {
        "id": "auwR-30IvHeY"
      },
      "source": [
        "### Imports"
      ]
    },
    {
      "cell_type": "code",
      "execution_count": 26,
      "metadata": {
        "id": "VM6tUr-yuekR"
      },
      "outputs": [],
      "source": [
        "import optuna\n",
        "from optuna.pruners import MedianPruner\n",
        "from optuna.samplers import TPESampler\n",
        "from optuna.visualization import plot_optimization_history, plot_param_importances"
      ]
    },
    {
      "attachments": {},
      "cell_type": "markdown",
      "metadata": {
        "id": "ZQVfmM1dzA1d"
      },
      "source": [
        "### 0. Setup your Config"
      ]
    },
    {
      "cell_type": "code",
      "execution_count": 27,
      "metadata": {
        "id": "yyBTVcAGzCRk"
      },
      "outputs": [],
      "source": [
        "N_TRIALS = 100  # Maximum number of trials\n",
        "N_JOBS = 1 # Number of jobs to run in parallel\n",
        "N_STARTUP_TRIALS = 5  # Stop random sampling after N_STARTUP_TRIALS\n",
        "N_EVALUATIONS = 2  # Number of evaluations during the training\n",
        "N_TIMESTEPS = int(2e4)  # Training budget\n",
        "EVAL_FREQ = int(N_TIMESTEPS / N_EVALUATIONS)\n",
        "N_EVAL_ENVS = 5\n",
        "N_EVAL_EPISODES = 10\n",
        "TIMEOUT = int(60 * 15)  # 15 minutes\n",
        "\n",
        "ENV_ID = \"CartPole-v1\"\n",
        "\n",
        "DEFAULT_HYPERPARAMS = {\n",
        "    \"policy\": \"MlpPolicy\",\n",
        "    \"env\": ENV_ID,\n",
        "}"
      ]
    },
    {
      "cell_type": "markdown",
      "metadata": {
        "id": "25HgcDYzvJ0b"
      },
      "source": [
        "### 1. Define the search space"
      ]
    },
    {
      "cell_type": "code",
      "execution_count": 29,
      "metadata": {
        "id": "KXo8AwGAvN8Q"
      },
      "outputs": [],
      "source": [
        "from typing import Any, Dict\n",
        "import torch\n",
        "import torch.nn as nn\n",
        "\n",
        "def sample_a2c_params(trial: optuna.Trial) -> Dict[str, Any]:\n",
        "    \"\"\"\n",
        "    Sampler for A2C hyperparameters.\n",
        "\n",
        "    :param trial: Optuna trial object\n",
        "    :return: The sampled hyperparameters for the given trial.\n",
        "    \"\"\"\n",
        "    # in a trial suggest Discount factor between 0.9 and 0.9999 from log distribution\n",
        "    gamma = 1.0 - trial.suggest_float(\"gamma\", 0.0001, 0.1, log=True)\n",
        "    # in a trial suggest max_grad_norm between 0.3 and 5.0 from log distribution\n",
        "    max_grad_norm = trial.suggest_float(\"max_grad_norm\", 0.3, 5.0, log=True)\n",
        "    # 8, 16, 32, ... 1024\n",
        "    n_steps = 2 ** trial.suggest_int(\"exponent_n_steps\", 3, 10)\n",
        "\n",
        "    # in a trial suggest a learning rate from the search space [1e-5, 1] (log) -> `suggest_float`\n",
        "    learning_rate = trial.suggest_float(\"lr\", 1e-5, 1, log=True)\n",
        "    # in a trial suggest a network architecture from the search space [\"tiny\", \"small\"] -> `suggest_categorical`\n",
        "    net_arch = trial.suggest_categorical(\"net_arch\", [\"tiny\", \"small\"])\n",
        "    # in a trial suggest an activation function from the search space [\"tanh\", \"relu\"] -> `suggest_categorical`\n",
        "    activation_fn = trial.suggest_categorical(\"activiation_fn\", [\"tanh\", \"relu\"])\n",
        "\n",
        "    # Display true values\n",
        "    trial.set_user_attr(\"gamma_\", gamma)\n",
        "    trial.set_user_attr(\"n_steps\", n_steps)\n",
        "\n",
        "    net_arch = [\n",
        "        {\"pi\": [64], \"vf\": [64]}\n",
        "        if net_arch == \"tiny\"\n",
        "        else {\"pi\": [64, 64], \"vf\": [64, 64]}\n",
        "    ]\n",
        "\n",
        "    activation_fn = {\"tanh\": nn.Tanh, \"relu\": nn.ReLU}[activation_fn]\n",
        "\n",
        "    return {\n",
        "        \"n_steps\": n_steps,\n",
        "        \"gamma\": gamma,\n",
        "        \"learning_rate\": learning_rate,\n",
        "        \"max_grad_norm\": max_grad_norm,\n",
        "        \"policy_kwargs\": {\n",
        "            \"net_arch\": net_arch,\n",
        "            \"activation_fn\": activation_fn,\n",
        "        },\n",
        "    }"
      ]
    },
    {
      "attachments": {},
      "cell_type": "markdown",
      "metadata": {
        "id": "iybymNiJxNu7"
      },
      "source": [
        "### 3. Define the objective function"
      ]
    },
    {
      "attachments": {},
      "cell_type": "markdown",
      "metadata": {
        "id": "YJY8Z8tuxai7"
      },
      "source": [
        "#### a. First we define a custom callback to report the results of periodic evaluations to Optuna:"
      ]
    },
    {
      "cell_type": "code",
      "execution_count": 30,
      "metadata": {
        "id": "U5ijWTPzxSmd"
      },
      "outputs": [],
      "source": [
        "from stable_baselines3.common.callbacks import EvalCallback\n",
        "\n",
        "class TrialEvalCallback(EvalCallback):\n",
        "    \"\"\"\n",
        "    Callback used for evaluating and reporting a trial.\n",
        "    \n",
        "    :param eval_env: Evaluation environement\n",
        "    :param trial: Optuna trial object\n",
        "    :param n_eval_episodes: Number of evaluation episodes\n",
        "    :param eval_freq:   Evaluate the agent every ``eval_freq`` call of the callback.\n",
        "    :param deterministic: Whether the evaluation should\n",
        "        use a stochastic or deterministic policy.\n",
        "    :param verbose:\n",
        "    \"\"\"\n",
        "\n",
        "    def __init__(\n",
        "        self,\n",
        "        eval_env: gym.Env,\n",
        "        trial: optuna.Trial,\n",
        "        n_eval_episodes: int = 5,\n",
        "        eval_freq: int = 10000,\n",
        "        deterministic: bool = True,\n",
        "        verbose: int = 0,\n",
        "    ):\n",
        "\n",
        "        super().__init__(\n",
        "            eval_env=eval_env,\n",
        "            n_eval_episodes=n_eval_episodes,\n",
        "            eval_freq=eval_freq,\n",
        "            deterministic=deterministic,\n",
        "            verbose=verbose,\n",
        "        )\n",
        "        self.trial = trial\n",
        "        self.eval_idx = 0\n",
        "        self.is_pruned = False\n",
        "\n",
        "    def _on_step(self) -> bool:\n",
        "        if self.eval_freq > 0 and self.n_calls % self.eval_freq == 0:\n",
        "            # Evaluate policy (done in the parent class)\n",
        "            super()._on_step()\n",
        "            self.eval_idx += 1\n",
        "            # Send report to Optuna\n",
        "            self.trial.report(self.last_mean_reward, self.eval_idx)\n",
        "            # Prune trial if need\n",
        "            if self.trial.should_prune():\n",
        "                self.is_pruned = True\n",
        "                return False\n",
        "        return True"
      ]
    },
    {
      "attachments": {},
      "cell_type": "markdown",
      "metadata": {
        "id": "76voi9AXxlCq"
      },
      "source": [
        "#### b. Then we define the objective function that is in charge of sampling hyperparameters, creating the model and then returning the result to Optuna"
      ]
    },
    {
      "cell_type": "code",
      "execution_count": 31,
      "metadata": {
        "id": "E0yEokTDxhrC"
      },
      "outputs": [],
      "source": [
        "def objective(trial: optuna.Trial) -> float:\n",
        "    \"\"\"\n",
        "    Objective function using by Optuna to evaluate\n",
        "    one configuration (i.e., one set of hyperparameters).\n",
        "\n",
        "    Given a trial object, it will sample hyperparameters,\n",
        "    evaluate it and report the result (mean episodic reward after training)\n",
        "\n",
        "    :param trial: Optuna trial object\n",
        "    :return: Mean episodic reward after training\n",
        "    \"\"\"\n",
        "    # Sample the defualt hyperparameters\n",
        "    kwargs = DEFAULT_HYPERPARAMS.copy()\n",
        "\n",
        "    # 1. Sample hyperparameters and update the keyword arguments dictionary\n",
        "    kwargs.update(sample_a2c_params(trial))\n",
        "\n",
        "    # Create the RL model using the updated hyperparameters dictionary\n",
        "    model = A2C(**kwargs)\n",
        "\n",
        "    # 2. Create envs used for evaluation using `make_vec_env`, `ENV_ID` and `N_EVAL_ENVS`\n",
        "    eval_env = make_vec_env(ENV_ID, n_envs=N_EVAL_ENVS)\n",
        "\n",
        "    # 3. Create the `TrialEvalCallback` callback defined above that will periodically evaluate\n",
        "    # and report the performance using `N_EVAL_EPISODES` every `EVAL_FREQ`\n",
        "    # TrialEvalCallback signature:\n",
        "    # TrialEvalCallback(eval_env, trial, n_eval_episodes, eval_freq, deterministic, verbose)\n",
        "    eval_callback = TrialEvalCallback(eval_env, \n",
        "                                        trial, \n",
        "                                        n_eval_episodes=N_EVAL_EPISODES, \n",
        "                                        eval_freq=EVAL_FREQ,\n",
        "                                        deterministic=True,\n",
        "                                        verbose=0)\n",
        "\n",
        "\n",
        "    nan_encountered = False\n",
        "    try:\n",
        "        # Train the model\n",
        "        model.learn(N_TIMESTEPS, callback=eval_callback)\n",
        "    except AssertionError as e:\n",
        "        # Sometimes, random hyperparams can generate NaN\n",
        "        print(e)\n",
        "        nan_encountered = True\n",
        "    finally:\n",
        "        # Free memory\n",
        "        model.env.close()\n",
        "        eval_envs.close()\n",
        "\n",
        "    # Tell the optimizer that the trial failed\n",
        "    if nan_encountered:\n",
        "        return float(\"nan\")\n",
        "\n",
        "    if eval_callback.is_pruned:\n",
        "        raise optuna.exceptions.TrialPruned()\n",
        "\n",
        "    return eval_callback.last_mean_reward"
      ]
    },
    {
      "attachments": {},
      "cell_type": "markdown",
      "metadata": {
        "id": "jMFLu_M0ymzj"
      },
      "source": [
        "### 4. The optimization loop"
      ]
    },
    {
      "attachments": {},
      "cell_type": "markdown",
      "metadata": {},
      "source": [
        "* A sampler is a component that generates new sets of hyperparameters to be tried, based on some probability distribution or strategy. The goal of sampling is to explore the hyperparameter space effectively and find the best-performing set of hyperparameters.\n",
        "\n",
        "* A pruner is a component in hyperparameter optimization that eliminates certain combinations of hyperparameters from consideration, based on some criteria such as performance, computational cost, or intermediate results. The goal of pruning is to reduce the number of trials and speed up the optimization process."
      ]
    },
    {
      "cell_type": "code",
      "execution_count": 32,
      "metadata": {
        "id": "4UU17YpjymPr"
      },
      "outputs": [
        {
          "name": "stderr",
          "output_type": "stream",
          "text": [
            "\u001b[32m[I 2023-02-02 14:09:03,026]\u001b[0m A new study created in memory with name: no-name-124d3f37-0d5c-48e1-b7b1-8486be532132\u001b[0m\n",
            "c:\\Users\\ahmad.alismail\\AppData\\Local\\Programs\\Python\\Python310\\lib\\site-packages\\stable_baselines3\\common\\policies.py:458: UserWarning: As shared layers in the mlp_extractor are deprecated and will be removed in SB3 v1.8.0, you should now pass directly a dictionary and not a list (net_arch=dict(pi=..., vf=...) instead of net_arch=[dict(pi=..., vf=...)])\n",
            "  warnings.warn(\n",
            "\u001b[32m[I 2023-02-02 14:09:11,749]\u001b[0m Trial 0 finished with value: 317.4 and parameters: {'gamma': 0.00017487775714158574, 'max_grad_norm': 2.0526455687278777, 'exponent_n_steps': 6, 'lr': 0.004906760155069454, 'net_arch': 'tiny', 'activiation_fn': 'tanh'}. Best is trial 0 with value: 317.4.\u001b[0m\n",
            "\u001b[32m[I 2023-02-02 14:09:22,303]\u001b[0m Trial 1 finished with value: 76.4 and parameters: {'gamma': 0.0027535967481401957, 'max_grad_norm': 0.7731591302528966, 'exponent_n_steps': 4, 'lr': 9.547816454121622e-05, 'net_arch': 'tiny', 'activiation_fn': 'relu'}. Best is trial 0 with value: 317.4.\u001b[0m\n",
            "\u001b[32m[I 2023-02-02 14:09:34,594]\u001b[0m Trial 2 finished with value: 336.0 and parameters: {'gamma': 0.0003792538886639274, 'max_grad_norm': 2.558294891159617, 'exponent_n_steps': 4, 'lr': 0.00030641202592422684, 'net_arch': 'small', 'activiation_fn': 'relu'}. Best is trial 2 with value: 336.0.\u001b[0m\n",
            "\u001b[32m[I 2023-02-02 14:09:42,974]\u001b[0m Trial 3 finished with value: 406.6 and parameters: {'gamma': 0.00017564925413389958, 'max_grad_norm': 1.772662728034658, 'exponent_n_steps': 9, 'lr': 0.009461392809731168, 'net_arch': 'tiny', 'activiation_fn': 'relu'}. Best is trial 3 with value: 406.6.\u001b[0m\n",
            "\u001b[32m[I 2023-02-02 14:09:50,471]\u001b[0m Trial 4 finished with value: 125.3 and parameters: {'gamma': 0.008942558895307203, 'max_grad_norm': 1.7755831406855178, 'exponent_n_steps': 6, 'lr': 0.015291223348050016, 'net_arch': 'tiny', 'activiation_fn': 'tanh'}. Best is trial 3 with value: 406.6.\u001b[0m\n",
            "\u001b[32m[I 2023-02-02 14:09:56,286]\u001b[0m Trial 5 pruned. \u001b[0m\n",
            "\u001b[32m[I 2023-02-02 14:10:03,775]\u001b[0m Trial 6 pruned. \u001b[0m\n",
            "\u001b[32m[I 2023-02-02 14:10:10,461]\u001b[0m Trial 7 pruned. \u001b[0m\n",
            "\u001b[32m[I 2023-02-02 14:10:22,615]\u001b[0m Trial 8 finished with value: 469.8 and parameters: {'gamma': 0.0010251045908266645, 'max_grad_norm': 1.1792351667498302, 'exponent_n_steps': 8, 'lr': 0.0011477672462044365, 'net_arch': 'small', 'activiation_fn': 'tanh'}. Best is trial 8 with value: 469.8.\u001b[0m\n",
            "\u001b[32m[I 2023-02-02 14:10:32,596]\u001b[0m Trial 9 finished with value: 435.7 and parameters: {'gamma': 0.0014109017734231638, 'max_grad_norm': 0.5658395341435571, 'exponent_n_steps': 7, 'lr': 0.0006732852685717285, 'net_arch': 'small', 'activiation_fn': 'tanh'}. Best is trial 8 with value: 469.8.\u001b[0m\n",
            "\u001b[32m[I 2023-02-02 14:10:36,600]\u001b[0m Trial 10 pruned. \u001b[0m\n",
            "\u001b[32m[I 2023-02-02 14:10:40,509]\u001b[0m Trial 11 pruned. \u001b[0m\n",
            "\u001b[32m[I 2023-02-02 14:10:45,997]\u001b[0m Trial 12 pruned. \u001b[0m\n",
            "\u001b[32m[I 2023-02-02 14:10:55,589]\u001b[0m Trial 13 pruned. \u001b[0m\n",
            "\u001b[32m[I 2023-02-02 14:11:03,153]\u001b[0m Trial 14 pruned. \u001b[0m\n",
            "\u001b[32m[I 2023-02-02 14:11:16,381]\u001b[0m Trial 15 pruned. \u001b[0m\n",
            "\u001b[32m[I 2023-02-02 14:11:24,269]\u001b[0m Trial 16 pruned. \u001b[0m\n",
            "\u001b[32m[I 2023-02-02 14:11:40,537]\u001b[0m Trial 17 finished with value: 500.0 and parameters: {'gamma': 0.0016433551898060073, 'max_grad_norm': 1.2168806706875162, 'exponent_n_steps': 7, 'lr': 0.0038161011063367464, 'net_arch': 'small', 'activiation_fn': 'tanh'}. Best is trial 17 with value: 500.0.\u001b[0m\n",
            "\u001b[32m[I 2023-02-02 14:11:48,249]\u001b[0m Trial 18 pruned. \u001b[0m\n",
            "\u001b[32m[I 2023-02-02 14:11:57,547]\u001b[0m Trial 19 pruned. \u001b[0m\n",
            "\u001b[32m[I 2023-02-02 14:12:05,682]\u001b[0m Trial 20 pruned. \u001b[0m\n",
            "\u001b[32m[I 2023-02-02 14:12:22,393]\u001b[0m Trial 21 finished with value: 500.0 and parameters: {'gamma': 0.0012021163466653705, 'max_grad_norm': 0.7380553852186719, 'exponent_n_steps': 7, 'lr': 0.00067356567863594, 'net_arch': 'small', 'activiation_fn': 'tanh'}. Best is trial 17 with value: 500.0.\u001b[0m\n",
            "\u001b[32m[I 2023-02-02 14:12:30,212]\u001b[0m Trial 22 pruned. \u001b[0m\n",
            "\u001b[32m[I 2023-02-02 14:12:38,546]\u001b[0m Trial 23 pruned. \u001b[0m\n",
            "\u001b[32m[I 2023-02-02 14:12:54,768]\u001b[0m Trial 24 finished with value: 500.0 and parameters: {'gamma': 0.0005944107290011751, 'max_grad_norm': 1.5224997948211356, 'exponent_n_steps': 8, 'lr': 0.003707417386198643, 'net_arch': 'small', 'activiation_fn': 'tanh'}. Best is trial 17 with value: 500.0.\u001b[0m\n",
            "\u001b[32m[I 2023-02-02 14:13:04,139]\u001b[0m Trial 25 pruned. \u001b[0m\n",
            "\u001b[32m[I 2023-02-02 14:13:12,362]\u001b[0m Trial 26 pruned. \u001b[0m\n",
            "\u001b[32m[I 2023-02-02 14:13:19,894]\u001b[0m Trial 27 pruned. \u001b[0m\n",
            "\u001b[32m[I 2023-02-02 14:13:28,176]\u001b[0m Trial 28 pruned. \u001b[0m\n",
            "\u001b[32m[I 2023-02-02 14:13:43,904]\u001b[0m Trial 29 finished with value: 440.7 and parameters: {'gamma': 0.0014106898261822757, 'max_grad_norm': 2.322690597161493, 'exponent_n_steps': 6, 'lr': 0.005147619379638811, 'net_arch': 'tiny', 'activiation_fn': 'tanh'}. Best is trial 17 with value: 500.0.\u001b[0m\n",
            "\u001b[32m[I 2023-02-02 14:13:51,288]\u001b[0m Trial 30 pruned. \u001b[0m\n",
            "\u001b[32m[I 2023-02-02 14:13:59,672]\u001b[0m Trial 31 pruned. \u001b[0m\n",
            "\u001b[32m[I 2023-02-02 14:14:07,897]\u001b[0m Trial 32 pruned. \u001b[0m\n",
            "\u001b[32m[I 2023-02-02 14:14:15,601]\u001b[0m Trial 33 pruned. \u001b[0m\n",
            "\u001b[32m[I 2023-02-02 14:14:22,919]\u001b[0m Trial 34 pruned. \u001b[0m\n",
            "\u001b[32m[I 2023-02-02 14:14:30,814]\u001b[0m Trial 35 pruned. \u001b[0m\n",
            "\u001b[32m[I 2023-02-02 14:14:38,593]\u001b[0m Trial 36 pruned. \u001b[0m\n",
            "\u001b[32m[I 2023-02-02 14:14:46,683]\u001b[0m Trial 37 pruned. \u001b[0m\n",
            "\u001b[32m[I 2023-02-02 14:14:54,517]\u001b[0m Trial 38 pruned. \u001b[0m\n",
            "\u001b[32m[I 2023-02-02 14:15:01,569]\u001b[0m Trial 39 pruned. \u001b[0m\n",
            "\u001b[32m[I 2023-02-02 14:15:09,252]\u001b[0m Trial 40 pruned. \u001b[0m\n",
            "\u001b[32m[I 2023-02-02 14:15:26,530]\u001b[0m Trial 41 finished with value: 500.0 and parameters: {'gamma': 0.0012188609295388743, 'max_grad_norm': 2.336041468568209, 'exponent_n_steps': 5, 'lr': 0.004970208568910776, 'net_arch': 'tiny', 'activiation_fn': 'tanh'}. Best is trial 17 with value: 500.0.\u001b[0m\n",
            "\u001b[32m[I 2023-02-02 14:15:36,718]\u001b[0m Trial 42 pruned. \u001b[0m\n",
            "\u001b[32m[I 2023-02-02 14:15:53,868]\u001b[0m Trial 43 finished with value: 161.5 and parameters: {'gamma': 0.001303295487059816, 'max_grad_norm': 1.7051746529912588, 'exponent_n_steps': 5, 'lr': 0.007402997021330218, 'net_arch': 'tiny', 'activiation_fn': 'tanh'}. Best is trial 17 with value: 500.0.\u001b[0m\n",
            "\u001b[32m[I 2023-02-02 14:16:01,359]\u001b[0m Trial 44 pruned. \u001b[0m\n",
            "\u001b[32m[I 2023-02-02 14:16:11,158]\u001b[0m Trial 45 pruned. \u001b[0m\n",
            "\u001b[32m[I 2023-02-02 14:16:19,133]\u001b[0m Trial 46 pruned. \u001b[0m\n",
            "\u001b[32m[I 2023-02-02 14:16:32,431]\u001b[0m Trial 47 pruned. \u001b[0m\n",
            "\u001b[32m[I 2023-02-02 14:16:40,499]\u001b[0m Trial 48 pruned. \u001b[0m\n",
            "\u001b[32m[I 2023-02-02 14:16:48,343]\u001b[0m Trial 49 pruned. \u001b[0m\n",
            "\u001b[32m[I 2023-02-02 14:16:56,346]\u001b[0m Trial 50 pruned. \u001b[0m\n",
            "\u001b[32m[I 2023-02-02 14:17:04,249]\u001b[0m Trial 51 pruned. \u001b[0m\n",
            "\u001b[32m[I 2023-02-02 14:17:11,241]\u001b[0m Trial 52 pruned. \u001b[0m\n",
            "\u001b[32m[I 2023-02-02 14:17:18,906]\u001b[0m Trial 53 pruned. \u001b[0m\n",
            "\u001b[32m[I 2023-02-02 14:17:27,523]\u001b[0m Trial 54 pruned. \u001b[0m\n",
            "\u001b[32m[I 2023-02-02 14:17:46,540]\u001b[0m Trial 55 finished with value: 126.6 and parameters: {'gamma': 0.0006392182985819778, 'max_grad_norm': 1.900958839250189, 'exponent_n_steps': 4, 'lr': 0.0070028682319373285, 'net_arch': 'tiny', 'activiation_fn': 'tanh'}. Best is trial 17 with value: 500.0.\u001b[0m\n",
            "\u001b[32m[I 2023-02-02 14:17:54,224]\u001b[0m Trial 56 pruned. \u001b[0m\n",
            "\u001b[32m[I 2023-02-02 14:18:02,483]\u001b[0m Trial 57 pruned. \u001b[0m\n",
            "\u001b[32m[I 2023-02-02 14:18:10,293]\u001b[0m Trial 58 pruned. \u001b[0m\n",
            "\u001b[32m[I 2023-02-02 14:18:18,423]\u001b[0m Trial 59 pruned. \u001b[0m\n",
            "\u001b[32m[I 2023-02-02 14:18:25,976]\u001b[0m Trial 60 pruned. \u001b[0m\n",
            "\u001b[32m[I 2023-02-02 14:18:33,939]\u001b[0m Trial 61 pruned. \u001b[0m\n",
            "\u001b[32m[I 2023-02-02 14:18:41,709]\u001b[0m Trial 62 pruned. \u001b[0m\n",
            "\u001b[32m[I 2023-02-02 14:18:49,013]\u001b[0m Trial 63 pruned. \u001b[0m\n",
            "\u001b[32m[I 2023-02-02 14:19:07,382]\u001b[0m Trial 64 finished with value: 387.7 and parameters: {'gamma': 0.0009419886847290079, 'max_grad_norm': 0.4150617395338641, 'exponent_n_steps': 7, 'lr': 0.001354652281039817, 'net_arch': 'small', 'activiation_fn': 'tanh'}. Best is trial 17 with value: 500.0.\u001b[0m\n",
            "\u001b[32m[I 2023-02-02 14:19:14,957]\u001b[0m Trial 65 pruned. \u001b[0m\n",
            "\u001b[32m[I 2023-02-02 14:19:23,081]\u001b[0m Trial 66 pruned. \u001b[0m\n",
            "\u001b[32m[I 2023-02-02 14:19:30,990]\u001b[0m Trial 67 pruned. \u001b[0m\n",
            "\u001b[32m[I 2023-02-02 14:19:40,004]\u001b[0m Trial 68 pruned. \u001b[0m\n",
            "\u001b[32m[I 2023-02-02 14:19:49,340]\u001b[0m Trial 69 pruned. \u001b[0m\n",
            "\u001b[32m[I 2023-02-02 14:20:05,113]\u001b[0m Trial 70 finished with value: 500.0 and parameters: {'gamma': 0.00042642525140871066, 'max_grad_norm': 1.2002149063934198, 'exponent_n_steps': 7, 'lr': 0.006069671005119727, 'net_arch': 'tiny', 'activiation_fn': 'tanh'}. Best is trial 17 with value: 500.0.\u001b[0m\n",
            "\u001b[32m[I 2023-02-02 14:20:12,651]\u001b[0m Trial 71 pruned. \u001b[0m\n",
            "\u001b[32m[I 2023-02-02 14:20:27,061]\u001b[0m Trial 72 finished with value: 500.0 and parameters: {'gamma': 0.0005711332372422617, 'max_grad_norm': 1.1167241554569594, 'exponent_n_steps': 7, 'lr': 0.009375501656949418, 'net_arch': 'tiny', 'activiation_fn': 'tanh'}. Best is trial 17 with value: 500.0.\u001b[0m\n",
            "\u001b[32m[I 2023-02-02 14:20:34,827]\u001b[0m Trial 73 pruned. \u001b[0m\n",
            "\u001b[32m[I 2023-02-02 14:20:48,945]\u001b[0m Trial 74 finished with value: 500.0 and parameters: {'gamma': 0.0007993997581388641, 'max_grad_norm': 1.1305874453431926, 'exponent_n_steps': 7, 'lr': 0.003945963610276838, 'net_arch': 'tiny', 'activiation_fn': 'tanh'}. Best is trial 17 with value: 500.0.\u001b[0m\n",
            "\u001b[32m[I 2023-02-02 14:21:02,376]\u001b[0m Trial 75 finished with value: 139.8 and parameters: {'gamma': 0.0004842982568477897, 'max_grad_norm': 1.130241964109582, 'exponent_n_steps': 7, 'lr': 0.003688309185196064, 'net_arch': 'tiny', 'activiation_fn': 'tanh'}. Best is trial 17 with value: 500.0.\u001b[0m\n",
            "\u001b[32m[I 2023-02-02 14:21:15,478]\u001b[0m Trial 76 finished with value: 445.0 and parameters: {'gamma': 0.00041096712776545396, 'max_grad_norm': 0.9739690005703098, 'exponent_n_steps': 7, 'lr': 0.00977934045771231, 'net_arch': 'tiny', 'activiation_fn': 'tanh'}. Best is trial 17 with value: 500.0.\u001b[0m\n",
            "\u001b[32m[I 2023-02-02 14:21:22,083]\u001b[0m Trial 77 pruned. \u001b[0m\n",
            "\u001b[32m[I 2023-02-02 14:21:29,158]\u001b[0m Trial 78 pruned. \u001b[0m\n",
            "\u001b[32m[I 2023-02-02 14:21:35,977]\u001b[0m Trial 79 pruned. \u001b[0m\n",
            "\u001b[32m[I 2023-02-02 14:21:50,174]\u001b[0m Trial 80 finished with value: 500.0 and parameters: {'gamma': 0.00034433637689639684, 'max_grad_norm': 1.0859223050219275, 'exponent_n_steps': 7, 'lr': 0.014010237157983392, 'net_arch': 'tiny', 'activiation_fn': 'tanh'}. Best is trial 17 with value: 500.0.\u001b[0m\n",
            "\u001b[32m[I 2023-02-02 14:22:03,925]\u001b[0m Trial 81 finished with value: 49.5 and parameters: {'gamma': 0.0003191137925315516, 'max_grad_norm': 1.05026497598457, 'exponent_n_steps': 7, 'lr': 0.012563849127696262, 'net_arch': 'tiny', 'activiation_fn': 'tanh'}. Best is trial 17 with value: 500.0.\u001b[0m\n",
            "\u001b[32m[I 2023-02-02 14:22:18,114]\u001b[0m Trial 82 finished with value: 500.0 and parameters: {'gamma': 0.00021736403985555042, 'max_grad_norm': 1.1976525492893757, 'exponent_n_steps': 7, 'lr': 0.007996015384480094, 'net_arch': 'tiny', 'activiation_fn': 'tanh'}. Best is trial 17 with value: 500.0.\u001b[0m\n",
            "\u001b[32m[I 2023-02-02 14:22:32,263]\u001b[0m Trial 83 finished with value: 500.0 and parameters: {'gamma': 0.00024173078004185967, 'max_grad_norm': 1.2435491912716004, 'exponent_n_steps': 7, 'lr': 0.008082153760183355, 'net_arch': 'tiny', 'activiation_fn': 'tanh'}. Best is trial 17 with value: 500.0.\u001b[0m\n",
            "\u001b[32m[I 2023-02-02 14:22:39,233]\u001b[0m Trial 84 pruned. \u001b[0m\n",
            "\u001b[32m[I 2023-02-02 14:22:45,779]\u001b[0m Trial 85 pruned. \u001b[0m\n",
            "\u001b[32m[I 2023-02-02 14:22:59,801]\u001b[0m Trial 86 finished with value: 500.0 and parameters: {'gamma': 0.0004641758993984107, 'max_grad_norm': 1.0681782027901596, 'exponent_n_steps': 7, 'lr': 0.006009680141624212, 'net_arch': 'tiny', 'activiation_fn': 'tanh'}. Best is trial 17 with value: 500.0.\u001b[0m\n",
            "\u001b[32m[I 2023-02-02 14:23:06,765]\u001b[0m Trial 87 pruned. \u001b[0m\n",
            "\u001b[32m[I 2023-02-02 14:23:13,421]\u001b[0m Trial 88 pruned. \u001b[0m\n",
            "\u001b[32m[I 2023-02-02 14:23:21,088]\u001b[0m Trial 89 pruned. \u001b[0m\n",
            "\u001b[32m[I 2023-02-02 14:23:28,085]\u001b[0m Trial 90 pruned. \u001b[0m\n",
            "\u001b[32m[I 2023-02-02 14:23:35,017]\u001b[0m Trial 91 pruned. \u001b[0m\n",
            "\u001b[32m[I 2023-02-02 14:23:49,664]\u001b[0m Trial 92 finished with value: 144.1 and parameters: {'gamma': 0.00032837319022640247, 'max_grad_norm': 1.2718770782739761, 'exponent_n_steps': 7, 'lr': 0.012214459547153434, 'net_arch': 'tiny', 'activiation_fn': 'tanh'}. Best is trial 17 with value: 500.0.\u001b[0m\n",
            "\u001b[32m[I 2023-02-02 14:23:56,778]\u001b[0m Trial 93 pruned. \u001b[0m\n",
            "\u001b[32m[I 2023-02-02 14:24:12,219]\u001b[0m Trial 94 finished with value: 500.0 and parameters: {'gamma': 0.00022071978057985688, 'max_grad_norm': 1.1086907496287706, 'exponent_n_steps': 7, 'lr': 0.004338813401054624, 'net_arch': 'tiny', 'activiation_fn': 'tanh'}. Best is trial 17 with value: 500.0.\u001b[0m\n"
          ]
        },
        {
          "name": "stdout",
          "output_type": "stream",
          "text": [
            "Number of finished trials:  95\n",
            "Best trial:\n",
            "  Value: 500.0\n",
            "  Params: \n",
            "    gamma: 0.0016433551898060073\n",
            "    max_grad_norm: 1.2168806706875162\n",
            "    exponent_n_steps: 7\n",
            "    lr: 0.0038161011063367464\n",
            "    net_arch: small\n",
            "    activiation_fn: tanh\n",
            "  User attrs:\n",
            "    gamma_: 0.998356644810194\n",
            "    n_steps: 128\n"
          ]
        },
        {
          "data": {
            "application/vnd.plotly.v1+json": {
              "config": {
                "plotlyServerURL": "https://plot.ly"
              },
              "data": [
                {
                  "mode": "markers",
                  "name": "Objective Value",
                  "type": "scatter",
                  "x": [
                    0,
                    1,
                    2,
                    3,
                    4,
                    8,
                    9,
                    17,
                    21,
                    24,
                    29,
                    41,
                    43,
                    55,
                    64,
                    70,
                    72,
                    74,
                    75,
                    76,
                    80,
                    81,
                    82,
                    83,
                    86,
                    92,
                    94
                  ],
                  "y": [
                    317.4,
                    76.4,
                    336,
                    406.6,
                    125.3,
                    469.8,
                    435.7,
                    500,
                    500,
                    500,
                    440.7,
                    500,
                    161.5,
                    126.6,
                    387.7,
                    500,
                    500,
                    500,
                    139.8,
                    445,
                    500,
                    49.5,
                    500,
                    500,
                    500,
                    144.1,
                    500
                  ]
                },
                {
                  "name": "Best Value",
                  "type": "scatter",
                  "x": [
                    0,
                    1,
                    2,
                    3,
                    4,
                    8,
                    9,
                    17,
                    21,
                    24,
                    29,
                    41,
                    43,
                    55,
                    64,
                    70,
                    72,
                    74,
                    75,
                    76,
                    80,
                    81,
                    82,
                    83,
                    86,
                    92,
                    94
                  ],
                  "y": [
                    317.4,
                    317.4,
                    336,
                    406.6,
                    406.6,
                    469.8,
                    469.8,
                    500,
                    500,
                    500,
                    500,
                    500,
                    500,
                    500,
                    500,
                    500,
                    500,
                    500,
                    500,
                    500,
                    500,
                    500,
                    500,
                    500,
                    500,
                    500,
                    500
                  ]
                }
              ],
              "layout": {
                "template": {
                  "data": {
                    "bar": [
                      {
                        "error_x": {
                          "color": "#2a3f5f"
                        },
                        "error_y": {
                          "color": "#2a3f5f"
                        },
                        "marker": {
                          "line": {
                            "color": "#E5ECF6",
                            "width": 0.5
                          },
                          "pattern": {
                            "fillmode": "overlay",
                            "size": 10,
                            "solidity": 0.2
                          }
                        },
                        "type": "bar"
                      }
                    ],
                    "barpolar": [
                      {
                        "marker": {
                          "line": {
                            "color": "#E5ECF6",
                            "width": 0.5
                          },
                          "pattern": {
                            "fillmode": "overlay",
                            "size": 10,
                            "solidity": 0.2
                          }
                        },
                        "type": "barpolar"
                      }
                    ],
                    "carpet": [
                      {
                        "aaxis": {
                          "endlinecolor": "#2a3f5f",
                          "gridcolor": "white",
                          "linecolor": "white",
                          "minorgridcolor": "white",
                          "startlinecolor": "#2a3f5f"
                        },
                        "baxis": {
                          "endlinecolor": "#2a3f5f",
                          "gridcolor": "white",
                          "linecolor": "white",
                          "minorgridcolor": "white",
                          "startlinecolor": "#2a3f5f"
                        },
                        "type": "carpet"
                      }
                    ],
                    "choropleth": [
                      {
                        "colorbar": {
                          "outlinewidth": 0,
                          "ticks": ""
                        },
                        "type": "choropleth"
                      }
                    ],
                    "contour": [
                      {
                        "colorbar": {
                          "outlinewidth": 0,
                          "ticks": ""
                        },
                        "colorscale": [
                          [
                            0,
                            "#0d0887"
                          ],
                          [
                            0.1111111111111111,
                            "#46039f"
                          ],
                          [
                            0.2222222222222222,
                            "#7201a8"
                          ],
                          [
                            0.3333333333333333,
                            "#9c179e"
                          ],
                          [
                            0.4444444444444444,
                            "#bd3786"
                          ],
                          [
                            0.5555555555555556,
                            "#d8576b"
                          ],
                          [
                            0.6666666666666666,
                            "#ed7953"
                          ],
                          [
                            0.7777777777777778,
                            "#fb9f3a"
                          ],
                          [
                            0.8888888888888888,
                            "#fdca26"
                          ],
                          [
                            1,
                            "#f0f921"
                          ]
                        ],
                        "type": "contour"
                      }
                    ],
                    "contourcarpet": [
                      {
                        "colorbar": {
                          "outlinewidth": 0,
                          "ticks": ""
                        },
                        "type": "contourcarpet"
                      }
                    ],
                    "heatmap": [
                      {
                        "colorbar": {
                          "outlinewidth": 0,
                          "ticks": ""
                        },
                        "colorscale": [
                          [
                            0,
                            "#0d0887"
                          ],
                          [
                            0.1111111111111111,
                            "#46039f"
                          ],
                          [
                            0.2222222222222222,
                            "#7201a8"
                          ],
                          [
                            0.3333333333333333,
                            "#9c179e"
                          ],
                          [
                            0.4444444444444444,
                            "#bd3786"
                          ],
                          [
                            0.5555555555555556,
                            "#d8576b"
                          ],
                          [
                            0.6666666666666666,
                            "#ed7953"
                          ],
                          [
                            0.7777777777777778,
                            "#fb9f3a"
                          ],
                          [
                            0.8888888888888888,
                            "#fdca26"
                          ],
                          [
                            1,
                            "#f0f921"
                          ]
                        ],
                        "type": "heatmap"
                      }
                    ],
                    "heatmapgl": [
                      {
                        "colorbar": {
                          "outlinewidth": 0,
                          "ticks": ""
                        },
                        "colorscale": [
                          [
                            0,
                            "#0d0887"
                          ],
                          [
                            0.1111111111111111,
                            "#46039f"
                          ],
                          [
                            0.2222222222222222,
                            "#7201a8"
                          ],
                          [
                            0.3333333333333333,
                            "#9c179e"
                          ],
                          [
                            0.4444444444444444,
                            "#bd3786"
                          ],
                          [
                            0.5555555555555556,
                            "#d8576b"
                          ],
                          [
                            0.6666666666666666,
                            "#ed7953"
                          ],
                          [
                            0.7777777777777778,
                            "#fb9f3a"
                          ],
                          [
                            0.8888888888888888,
                            "#fdca26"
                          ],
                          [
                            1,
                            "#f0f921"
                          ]
                        ],
                        "type": "heatmapgl"
                      }
                    ],
                    "histogram": [
                      {
                        "marker": {
                          "pattern": {
                            "fillmode": "overlay",
                            "size": 10,
                            "solidity": 0.2
                          }
                        },
                        "type": "histogram"
                      }
                    ],
                    "histogram2d": [
                      {
                        "colorbar": {
                          "outlinewidth": 0,
                          "ticks": ""
                        },
                        "colorscale": [
                          [
                            0,
                            "#0d0887"
                          ],
                          [
                            0.1111111111111111,
                            "#46039f"
                          ],
                          [
                            0.2222222222222222,
                            "#7201a8"
                          ],
                          [
                            0.3333333333333333,
                            "#9c179e"
                          ],
                          [
                            0.4444444444444444,
                            "#bd3786"
                          ],
                          [
                            0.5555555555555556,
                            "#d8576b"
                          ],
                          [
                            0.6666666666666666,
                            "#ed7953"
                          ],
                          [
                            0.7777777777777778,
                            "#fb9f3a"
                          ],
                          [
                            0.8888888888888888,
                            "#fdca26"
                          ],
                          [
                            1,
                            "#f0f921"
                          ]
                        ],
                        "type": "histogram2d"
                      }
                    ],
                    "histogram2dcontour": [
                      {
                        "colorbar": {
                          "outlinewidth": 0,
                          "ticks": ""
                        },
                        "colorscale": [
                          [
                            0,
                            "#0d0887"
                          ],
                          [
                            0.1111111111111111,
                            "#46039f"
                          ],
                          [
                            0.2222222222222222,
                            "#7201a8"
                          ],
                          [
                            0.3333333333333333,
                            "#9c179e"
                          ],
                          [
                            0.4444444444444444,
                            "#bd3786"
                          ],
                          [
                            0.5555555555555556,
                            "#d8576b"
                          ],
                          [
                            0.6666666666666666,
                            "#ed7953"
                          ],
                          [
                            0.7777777777777778,
                            "#fb9f3a"
                          ],
                          [
                            0.8888888888888888,
                            "#fdca26"
                          ],
                          [
                            1,
                            "#f0f921"
                          ]
                        ],
                        "type": "histogram2dcontour"
                      }
                    ],
                    "mesh3d": [
                      {
                        "colorbar": {
                          "outlinewidth": 0,
                          "ticks": ""
                        },
                        "type": "mesh3d"
                      }
                    ],
                    "parcoords": [
                      {
                        "line": {
                          "colorbar": {
                            "outlinewidth": 0,
                            "ticks": ""
                          }
                        },
                        "type": "parcoords"
                      }
                    ],
                    "pie": [
                      {
                        "automargin": true,
                        "type": "pie"
                      }
                    ],
                    "scatter": [
                      {
                        "fillpattern": {
                          "fillmode": "overlay",
                          "size": 10,
                          "solidity": 0.2
                        },
                        "type": "scatter"
                      }
                    ],
                    "scatter3d": [
                      {
                        "line": {
                          "colorbar": {
                            "outlinewidth": 0,
                            "ticks": ""
                          }
                        },
                        "marker": {
                          "colorbar": {
                            "outlinewidth": 0,
                            "ticks": ""
                          }
                        },
                        "type": "scatter3d"
                      }
                    ],
                    "scattercarpet": [
                      {
                        "marker": {
                          "colorbar": {
                            "outlinewidth": 0,
                            "ticks": ""
                          }
                        },
                        "type": "scattercarpet"
                      }
                    ],
                    "scattergeo": [
                      {
                        "marker": {
                          "colorbar": {
                            "outlinewidth": 0,
                            "ticks": ""
                          }
                        },
                        "type": "scattergeo"
                      }
                    ],
                    "scattergl": [
                      {
                        "marker": {
                          "colorbar": {
                            "outlinewidth": 0,
                            "ticks": ""
                          }
                        },
                        "type": "scattergl"
                      }
                    ],
                    "scattermapbox": [
                      {
                        "marker": {
                          "colorbar": {
                            "outlinewidth": 0,
                            "ticks": ""
                          }
                        },
                        "type": "scattermapbox"
                      }
                    ],
                    "scatterpolar": [
                      {
                        "marker": {
                          "colorbar": {
                            "outlinewidth": 0,
                            "ticks": ""
                          }
                        },
                        "type": "scatterpolar"
                      }
                    ],
                    "scatterpolargl": [
                      {
                        "marker": {
                          "colorbar": {
                            "outlinewidth": 0,
                            "ticks": ""
                          }
                        },
                        "type": "scatterpolargl"
                      }
                    ],
                    "scatterternary": [
                      {
                        "marker": {
                          "colorbar": {
                            "outlinewidth": 0,
                            "ticks": ""
                          }
                        },
                        "type": "scatterternary"
                      }
                    ],
                    "surface": [
                      {
                        "colorbar": {
                          "outlinewidth": 0,
                          "ticks": ""
                        },
                        "colorscale": [
                          [
                            0,
                            "#0d0887"
                          ],
                          [
                            0.1111111111111111,
                            "#46039f"
                          ],
                          [
                            0.2222222222222222,
                            "#7201a8"
                          ],
                          [
                            0.3333333333333333,
                            "#9c179e"
                          ],
                          [
                            0.4444444444444444,
                            "#bd3786"
                          ],
                          [
                            0.5555555555555556,
                            "#d8576b"
                          ],
                          [
                            0.6666666666666666,
                            "#ed7953"
                          ],
                          [
                            0.7777777777777778,
                            "#fb9f3a"
                          ],
                          [
                            0.8888888888888888,
                            "#fdca26"
                          ],
                          [
                            1,
                            "#f0f921"
                          ]
                        ],
                        "type": "surface"
                      }
                    ],
                    "table": [
                      {
                        "cells": {
                          "fill": {
                            "color": "#EBF0F8"
                          },
                          "line": {
                            "color": "white"
                          }
                        },
                        "header": {
                          "fill": {
                            "color": "#C8D4E3"
                          },
                          "line": {
                            "color": "white"
                          }
                        },
                        "type": "table"
                      }
                    ]
                  },
                  "layout": {
                    "annotationdefaults": {
                      "arrowcolor": "#2a3f5f",
                      "arrowhead": 0,
                      "arrowwidth": 1
                    },
                    "autotypenumbers": "strict",
                    "coloraxis": {
                      "colorbar": {
                        "outlinewidth": 0,
                        "ticks": ""
                      }
                    },
                    "colorscale": {
                      "diverging": [
                        [
                          0,
                          "#8e0152"
                        ],
                        [
                          0.1,
                          "#c51b7d"
                        ],
                        [
                          0.2,
                          "#de77ae"
                        ],
                        [
                          0.3,
                          "#f1b6da"
                        ],
                        [
                          0.4,
                          "#fde0ef"
                        ],
                        [
                          0.5,
                          "#f7f7f7"
                        ],
                        [
                          0.6,
                          "#e6f5d0"
                        ],
                        [
                          0.7,
                          "#b8e186"
                        ],
                        [
                          0.8,
                          "#7fbc41"
                        ],
                        [
                          0.9,
                          "#4d9221"
                        ],
                        [
                          1,
                          "#276419"
                        ]
                      ],
                      "sequential": [
                        [
                          0,
                          "#0d0887"
                        ],
                        [
                          0.1111111111111111,
                          "#46039f"
                        ],
                        [
                          0.2222222222222222,
                          "#7201a8"
                        ],
                        [
                          0.3333333333333333,
                          "#9c179e"
                        ],
                        [
                          0.4444444444444444,
                          "#bd3786"
                        ],
                        [
                          0.5555555555555556,
                          "#d8576b"
                        ],
                        [
                          0.6666666666666666,
                          "#ed7953"
                        ],
                        [
                          0.7777777777777778,
                          "#fb9f3a"
                        ],
                        [
                          0.8888888888888888,
                          "#fdca26"
                        ],
                        [
                          1,
                          "#f0f921"
                        ]
                      ],
                      "sequentialminus": [
                        [
                          0,
                          "#0d0887"
                        ],
                        [
                          0.1111111111111111,
                          "#46039f"
                        ],
                        [
                          0.2222222222222222,
                          "#7201a8"
                        ],
                        [
                          0.3333333333333333,
                          "#9c179e"
                        ],
                        [
                          0.4444444444444444,
                          "#bd3786"
                        ],
                        [
                          0.5555555555555556,
                          "#d8576b"
                        ],
                        [
                          0.6666666666666666,
                          "#ed7953"
                        ],
                        [
                          0.7777777777777778,
                          "#fb9f3a"
                        ],
                        [
                          0.8888888888888888,
                          "#fdca26"
                        ],
                        [
                          1,
                          "#f0f921"
                        ]
                      ]
                    },
                    "colorway": [
                      "#636efa",
                      "#EF553B",
                      "#00cc96",
                      "#ab63fa",
                      "#FFA15A",
                      "#19d3f3",
                      "#FF6692",
                      "#B6E880",
                      "#FF97FF",
                      "#FECB52"
                    ],
                    "font": {
                      "color": "#2a3f5f"
                    },
                    "geo": {
                      "bgcolor": "white",
                      "lakecolor": "white",
                      "landcolor": "#E5ECF6",
                      "showlakes": true,
                      "showland": true,
                      "subunitcolor": "white"
                    },
                    "hoverlabel": {
                      "align": "left"
                    },
                    "hovermode": "closest",
                    "mapbox": {
                      "style": "light"
                    },
                    "paper_bgcolor": "white",
                    "plot_bgcolor": "#E5ECF6",
                    "polar": {
                      "angularaxis": {
                        "gridcolor": "white",
                        "linecolor": "white",
                        "ticks": ""
                      },
                      "bgcolor": "#E5ECF6",
                      "radialaxis": {
                        "gridcolor": "white",
                        "linecolor": "white",
                        "ticks": ""
                      }
                    },
                    "scene": {
                      "xaxis": {
                        "backgroundcolor": "#E5ECF6",
                        "gridcolor": "white",
                        "gridwidth": 2,
                        "linecolor": "white",
                        "showbackground": true,
                        "ticks": "",
                        "zerolinecolor": "white"
                      },
                      "yaxis": {
                        "backgroundcolor": "#E5ECF6",
                        "gridcolor": "white",
                        "gridwidth": 2,
                        "linecolor": "white",
                        "showbackground": true,
                        "ticks": "",
                        "zerolinecolor": "white"
                      },
                      "zaxis": {
                        "backgroundcolor": "#E5ECF6",
                        "gridcolor": "white",
                        "gridwidth": 2,
                        "linecolor": "white",
                        "showbackground": true,
                        "ticks": "",
                        "zerolinecolor": "white"
                      }
                    },
                    "shapedefaults": {
                      "line": {
                        "color": "#2a3f5f"
                      }
                    },
                    "ternary": {
                      "aaxis": {
                        "gridcolor": "white",
                        "linecolor": "white",
                        "ticks": ""
                      },
                      "baxis": {
                        "gridcolor": "white",
                        "linecolor": "white",
                        "ticks": ""
                      },
                      "bgcolor": "#E5ECF6",
                      "caxis": {
                        "gridcolor": "white",
                        "linecolor": "white",
                        "ticks": ""
                      }
                    },
                    "title": {
                      "x": 0.05
                    },
                    "xaxis": {
                      "automargin": true,
                      "gridcolor": "white",
                      "linecolor": "white",
                      "ticks": "",
                      "title": {
                        "standoff": 15
                      },
                      "zerolinecolor": "white",
                      "zerolinewidth": 2
                    },
                    "yaxis": {
                      "automargin": true,
                      "gridcolor": "white",
                      "linecolor": "white",
                      "ticks": "",
                      "title": {
                        "standoff": 15
                      },
                      "zerolinecolor": "white",
                      "zerolinewidth": 2
                    }
                  }
                },
                "title": {
                  "text": "Optimization History Plot"
                },
                "xaxis": {
                  "title": {
                    "text": "Trial"
                  }
                },
                "yaxis": {
                  "title": {
                    "text": "Objective Value"
                  }
                }
              }
            }
          },
          "metadata": {},
          "output_type": "display_data"
        },
        {
          "data": {
            "application/vnd.plotly.v1+json": {
              "config": {
                "plotlyServerURL": "https://plot.ly"
              },
              "data": [
                {
                  "cliponaxis": false,
                  "hovertemplate": [
                    "net_arch (CategoricalDistribution): 0.00615405009807493<extra></extra>",
                    "activiation_fn (CategoricalDistribution): 0.04898612397816044<extra></extra>",
                    "lr (FloatDistribution): 0.18217645090887954<extra></extra>",
                    "gamma (FloatDistribution): 0.25010898356630124<extra></extra>",
                    "exponent_n_steps (IntDistribution): 0.25181537266906434<extra></extra>",
                    "max_grad_norm (FloatDistribution): 0.26075901877951974<extra></extra>"
                  ],
                  "marker": {
                    "color": "rgb(66,146,198)"
                  },
                  "orientation": "h",
                  "text": [
                    "<0.01",
                    "0.05",
                    "0.18",
                    "0.25",
                    "0.25",
                    "0.26"
                  ],
                  "textposition": "outside",
                  "type": "bar",
                  "x": [
                    0.00615405009807493,
                    0.04898612397816044,
                    0.18217645090887954,
                    0.25010898356630124,
                    0.25181537266906434,
                    0.26075901877951974
                  ],
                  "y": [
                    "net_arch",
                    "activiation_fn",
                    "lr",
                    "gamma",
                    "exponent_n_steps",
                    "max_grad_norm"
                  ]
                }
              ],
              "layout": {
                "showlegend": false,
                "template": {
                  "data": {
                    "bar": [
                      {
                        "error_x": {
                          "color": "#2a3f5f"
                        },
                        "error_y": {
                          "color": "#2a3f5f"
                        },
                        "marker": {
                          "line": {
                            "color": "#E5ECF6",
                            "width": 0.5
                          },
                          "pattern": {
                            "fillmode": "overlay",
                            "size": 10,
                            "solidity": 0.2
                          }
                        },
                        "type": "bar"
                      }
                    ],
                    "barpolar": [
                      {
                        "marker": {
                          "line": {
                            "color": "#E5ECF6",
                            "width": 0.5
                          },
                          "pattern": {
                            "fillmode": "overlay",
                            "size": 10,
                            "solidity": 0.2
                          }
                        },
                        "type": "barpolar"
                      }
                    ],
                    "carpet": [
                      {
                        "aaxis": {
                          "endlinecolor": "#2a3f5f",
                          "gridcolor": "white",
                          "linecolor": "white",
                          "minorgridcolor": "white",
                          "startlinecolor": "#2a3f5f"
                        },
                        "baxis": {
                          "endlinecolor": "#2a3f5f",
                          "gridcolor": "white",
                          "linecolor": "white",
                          "minorgridcolor": "white",
                          "startlinecolor": "#2a3f5f"
                        },
                        "type": "carpet"
                      }
                    ],
                    "choropleth": [
                      {
                        "colorbar": {
                          "outlinewidth": 0,
                          "ticks": ""
                        },
                        "type": "choropleth"
                      }
                    ],
                    "contour": [
                      {
                        "colorbar": {
                          "outlinewidth": 0,
                          "ticks": ""
                        },
                        "colorscale": [
                          [
                            0,
                            "#0d0887"
                          ],
                          [
                            0.1111111111111111,
                            "#46039f"
                          ],
                          [
                            0.2222222222222222,
                            "#7201a8"
                          ],
                          [
                            0.3333333333333333,
                            "#9c179e"
                          ],
                          [
                            0.4444444444444444,
                            "#bd3786"
                          ],
                          [
                            0.5555555555555556,
                            "#d8576b"
                          ],
                          [
                            0.6666666666666666,
                            "#ed7953"
                          ],
                          [
                            0.7777777777777778,
                            "#fb9f3a"
                          ],
                          [
                            0.8888888888888888,
                            "#fdca26"
                          ],
                          [
                            1,
                            "#f0f921"
                          ]
                        ],
                        "type": "contour"
                      }
                    ],
                    "contourcarpet": [
                      {
                        "colorbar": {
                          "outlinewidth": 0,
                          "ticks": ""
                        },
                        "type": "contourcarpet"
                      }
                    ],
                    "heatmap": [
                      {
                        "colorbar": {
                          "outlinewidth": 0,
                          "ticks": ""
                        },
                        "colorscale": [
                          [
                            0,
                            "#0d0887"
                          ],
                          [
                            0.1111111111111111,
                            "#46039f"
                          ],
                          [
                            0.2222222222222222,
                            "#7201a8"
                          ],
                          [
                            0.3333333333333333,
                            "#9c179e"
                          ],
                          [
                            0.4444444444444444,
                            "#bd3786"
                          ],
                          [
                            0.5555555555555556,
                            "#d8576b"
                          ],
                          [
                            0.6666666666666666,
                            "#ed7953"
                          ],
                          [
                            0.7777777777777778,
                            "#fb9f3a"
                          ],
                          [
                            0.8888888888888888,
                            "#fdca26"
                          ],
                          [
                            1,
                            "#f0f921"
                          ]
                        ],
                        "type": "heatmap"
                      }
                    ],
                    "heatmapgl": [
                      {
                        "colorbar": {
                          "outlinewidth": 0,
                          "ticks": ""
                        },
                        "colorscale": [
                          [
                            0,
                            "#0d0887"
                          ],
                          [
                            0.1111111111111111,
                            "#46039f"
                          ],
                          [
                            0.2222222222222222,
                            "#7201a8"
                          ],
                          [
                            0.3333333333333333,
                            "#9c179e"
                          ],
                          [
                            0.4444444444444444,
                            "#bd3786"
                          ],
                          [
                            0.5555555555555556,
                            "#d8576b"
                          ],
                          [
                            0.6666666666666666,
                            "#ed7953"
                          ],
                          [
                            0.7777777777777778,
                            "#fb9f3a"
                          ],
                          [
                            0.8888888888888888,
                            "#fdca26"
                          ],
                          [
                            1,
                            "#f0f921"
                          ]
                        ],
                        "type": "heatmapgl"
                      }
                    ],
                    "histogram": [
                      {
                        "marker": {
                          "pattern": {
                            "fillmode": "overlay",
                            "size": 10,
                            "solidity": 0.2
                          }
                        },
                        "type": "histogram"
                      }
                    ],
                    "histogram2d": [
                      {
                        "colorbar": {
                          "outlinewidth": 0,
                          "ticks": ""
                        },
                        "colorscale": [
                          [
                            0,
                            "#0d0887"
                          ],
                          [
                            0.1111111111111111,
                            "#46039f"
                          ],
                          [
                            0.2222222222222222,
                            "#7201a8"
                          ],
                          [
                            0.3333333333333333,
                            "#9c179e"
                          ],
                          [
                            0.4444444444444444,
                            "#bd3786"
                          ],
                          [
                            0.5555555555555556,
                            "#d8576b"
                          ],
                          [
                            0.6666666666666666,
                            "#ed7953"
                          ],
                          [
                            0.7777777777777778,
                            "#fb9f3a"
                          ],
                          [
                            0.8888888888888888,
                            "#fdca26"
                          ],
                          [
                            1,
                            "#f0f921"
                          ]
                        ],
                        "type": "histogram2d"
                      }
                    ],
                    "histogram2dcontour": [
                      {
                        "colorbar": {
                          "outlinewidth": 0,
                          "ticks": ""
                        },
                        "colorscale": [
                          [
                            0,
                            "#0d0887"
                          ],
                          [
                            0.1111111111111111,
                            "#46039f"
                          ],
                          [
                            0.2222222222222222,
                            "#7201a8"
                          ],
                          [
                            0.3333333333333333,
                            "#9c179e"
                          ],
                          [
                            0.4444444444444444,
                            "#bd3786"
                          ],
                          [
                            0.5555555555555556,
                            "#d8576b"
                          ],
                          [
                            0.6666666666666666,
                            "#ed7953"
                          ],
                          [
                            0.7777777777777778,
                            "#fb9f3a"
                          ],
                          [
                            0.8888888888888888,
                            "#fdca26"
                          ],
                          [
                            1,
                            "#f0f921"
                          ]
                        ],
                        "type": "histogram2dcontour"
                      }
                    ],
                    "mesh3d": [
                      {
                        "colorbar": {
                          "outlinewidth": 0,
                          "ticks": ""
                        },
                        "type": "mesh3d"
                      }
                    ],
                    "parcoords": [
                      {
                        "line": {
                          "colorbar": {
                            "outlinewidth": 0,
                            "ticks": ""
                          }
                        },
                        "type": "parcoords"
                      }
                    ],
                    "pie": [
                      {
                        "automargin": true,
                        "type": "pie"
                      }
                    ],
                    "scatter": [
                      {
                        "fillpattern": {
                          "fillmode": "overlay",
                          "size": 10,
                          "solidity": 0.2
                        },
                        "type": "scatter"
                      }
                    ],
                    "scatter3d": [
                      {
                        "line": {
                          "colorbar": {
                            "outlinewidth": 0,
                            "ticks": ""
                          }
                        },
                        "marker": {
                          "colorbar": {
                            "outlinewidth": 0,
                            "ticks": ""
                          }
                        },
                        "type": "scatter3d"
                      }
                    ],
                    "scattercarpet": [
                      {
                        "marker": {
                          "colorbar": {
                            "outlinewidth": 0,
                            "ticks": ""
                          }
                        },
                        "type": "scattercarpet"
                      }
                    ],
                    "scattergeo": [
                      {
                        "marker": {
                          "colorbar": {
                            "outlinewidth": 0,
                            "ticks": ""
                          }
                        },
                        "type": "scattergeo"
                      }
                    ],
                    "scattergl": [
                      {
                        "marker": {
                          "colorbar": {
                            "outlinewidth": 0,
                            "ticks": ""
                          }
                        },
                        "type": "scattergl"
                      }
                    ],
                    "scattermapbox": [
                      {
                        "marker": {
                          "colorbar": {
                            "outlinewidth": 0,
                            "ticks": ""
                          }
                        },
                        "type": "scattermapbox"
                      }
                    ],
                    "scatterpolar": [
                      {
                        "marker": {
                          "colorbar": {
                            "outlinewidth": 0,
                            "ticks": ""
                          }
                        },
                        "type": "scatterpolar"
                      }
                    ],
                    "scatterpolargl": [
                      {
                        "marker": {
                          "colorbar": {
                            "outlinewidth": 0,
                            "ticks": ""
                          }
                        },
                        "type": "scatterpolargl"
                      }
                    ],
                    "scatterternary": [
                      {
                        "marker": {
                          "colorbar": {
                            "outlinewidth": 0,
                            "ticks": ""
                          }
                        },
                        "type": "scatterternary"
                      }
                    ],
                    "surface": [
                      {
                        "colorbar": {
                          "outlinewidth": 0,
                          "ticks": ""
                        },
                        "colorscale": [
                          [
                            0,
                            "#0d0887"
                          ],
                          [
                            0.1111111111111111,
                            "#46039f"
                          ],
                          [
                            0.2222222222222222,
                            "#7201a8"
                          ],
                          [
                            0.3333333333333333,
                            "#9c179e"
                          ],
                          [
                            0.4444444444444444,
                            "#bd3786"
                          ],
                          [
                            0.5555555555555556,
                            "#d8576b"
                          ],
                          [
                            0.6666666666666666,
                            "#ed7953"
                          ],
                          [
                            0.7777777777777778,
                            "#fb9f3a"
                          ],
                          [
                            0.8888888888888888,
                            "#fdca26"
                          ],
                          [
                            1,
                            "#f0f921"
                          ]
                        ],
                        "type": "surface"
                      }
                    ],
                    "table": [
                      {
                        "cells": {
                          "fill": {
                            "color": "#EBF0F8"
                          },
                          "line": {
                            "color": "white"
                          }
                        },
                        "header": {
                          "fill": {
                            "color": "#C8D4E3"
                          },
                          "line": {
                            "color": "white"
                          }
                        },
                        "type": "table"
                      }
                    ]
                  },
                  "layout": {
                    "annotationdefaults": {
                      "arrowcolor": "#2a3f5f",
                      "arrowhead": 0,
                      "arrowwidth": 1
                    },
                    "autotypenumbers": "strict",
                    "coloraxis": {
                      "colorbar": {
                        "outlinewidth": 0,
                        "ticks": ""
                      }
                    },
                    "colorscale": {
                      "diverging": [
                        [
                          0,
                          "#8e0152"
                        ],
                        [
                          0.1,
                          "#c51b7d"
                        ],
                        [
                          0.2,
                          "#de77ae"
                        ],
                        [
                          0.3,
                          "#f1b6da"
                        ],
                        [
                          0.4,
                          "#fde0ef"
                        ],
                        [
                          0.5,
                          "#f7f7f7"
                        ],
                        [
                          0.6,
                          "#e6f5d0"
                        ],
                        [
                          0.7,
                          "#b8e186"
                        ],
                        [
                          0.8,
                          "#7fbc41"
                        ],
                        [
                          0.9,
                          "#4d9221"
                        ],
                        [
                          1,
                          "#276419"
                        ]
                      ],
                      "sequential": [
                        [
                          0,
                          "#0d0887"
                        ],
                        [
                          0.1111111111111111,
                          "#46039f"
                        ],
                        [
                          0.2222222222222222,
                          "#7201a8"
                        ],
                        [
                          0.3333333333333333,
                          "#9c179e"
                        ],
                        [
                          0.4444444444444444,
                          "#bd3786"
                        ],
                        [
                          0.5555555555555556,
                          "#d8576b"
                        ],
                        [
                          0.6666666666666666,
                          "#ed7953"
                        ],
                        [
                          0.7777777777777778,
                          "#fb9f3a"
                        ],
                        [
                          0.8888888888888888,
                          "#fdca26"
                        ],
                        [
                          1,
                          "#f0f921"
                        ]
                      ],
                      "sequentialminus": [
                        [
                          0,
                          "#0d0887"
                        ],
                        [
                          0.1111111111111111,
                          "#46039f"
                        ],
                        [
                          0.2222222222222222,
                          "#7201a8"
                        ],
                        [
                          0.3333333333333333,
                          "#9c179e"
                        ],
                        [
                          0.4444444444444444,
                          "#bd3786"
                        ],
                        [
                          0.5555555555555556,
                          "#d8576b"
                        ],
                        [
                          0.6666666666666666,
                          "#ed7953"
                        ],
                        [
                          0.7777777777777778,
                          "#fb9f3a"
                        ],
                        [
                          0.8888888888888888,
                          "#fdca26"
                        ],
                        [
                          1,
                          "#f0f921"
                        ]
                      ]
                    },
                    "colorway": [
                      "#636efa",
                      "#EF553B",
                      "#00cc96",
                      "#ab63fa",
                      "#FFA15A",
                      "#19d3f3",
                      "#FF6692",
                      "#B6E880",
                      "#FF97FF",
                      "#FECB52"
                    ],
                    "font": {
                      "color": "#2a3f5f"
                    },
                    "geo": {
                      "bgcolor": "white",
                      "lakecolor": "white",
                      "landcolor": "#E5ECF6",
                      "showlakes": true,
                      "showland": true,
                      "subunitcolor": "white"
                    },
                    "hoverlabel": {
                      "align": "left"
                    },
                    "hovermode": "closest",
                    "mapbox": {
                      "style": "light"
                    },
                    "paper_bgcolor": "white",
                    "plot_bgcolor": "#E5ECF6",
                    "polar": {
                      "angularaxis": {
                        "gridcolor": "white",
                        "linecolor": "white",
                        "ticks": ""
                      },
                      "bgcolor": "#E5ECF6",
                      "radialaxis": {
                        "gridcolor": "white",
                        "linecolor": "white",
                        "ticks": ""
                      }
                    },
                    "scene": {
                      "xaxis": {
                        "backgroundcolor": "#E5ECF6",
                        "gridcolor": "white",
                        "gridwidth": 2,
                        "linecolor": "white",
                        "showbackground": true,
                        "ticks": "",
                        "zerolinecolor": "white"
                      },
                      "yaxis": {
                        "backgroundcolor": "#E5ECF6",
                        "gridcolor": "white",
                        "gridwidth": 2,
                        "linecolor": "white",
                        "showbackground": true,
                        "ticks": "",
                        "zerolinecolor": "white"
                      },
                      "zaxis": {
                        "backgroundcolor": "#E5ECF6",
                        "gridcolor": "white",
                        "gridwidth": 2,
                        "linecolor": "white",
                        "showbackground": true,
                        "ticks": "",
                        "zerolinecolor": "white"
                      }
                    },
                    "shapedefaults": {
                      "line": {
                        "color": "#2a3f5f"
                      }
                    },
                    "ternary": {
                      "aaxis": {
                        "gridcolor": "white",
                        "linecolor": "white",
                        "ticks": ""
                      },
                      "baxis": {
                        "gridcolor": "white",
                        "linecolor": "white",
                        "ticks": ""
                      },
                      "bgcolor": "#E5ECF6",
                      "caxis": {
                        "gridcolor": "white",
                        "linecolor": "white",
                        "ticks": ""
                      }
                    },
                    "title": {
                      "x": 0.05
                    },
                    "xaxis": {
                      "automargin": true,
                      "gridcolor": "white",
                      "linecolor": "white",
                      "ticks": "",
                      "title": {
                        "standoff": 15
                      },
                      "zerolinecolor": "white",
                      "zerolinewidth": 2
                    },
                    "yaxis": {
                      "automargin": true,
                      "gridcolor": "white",
                      "linecolor": "white",
                      "ticks": "",
                      "title": {
                        "standoff": 15
                      },
                      "zerolinecolor": "white",
                      "zerolinewidth": 2
                    }
                  }
                },
                "title": {
                  "text": "Hyperparameter Importances"
                },
                "xaxis": {
                  "title": {
                    "text": "Importance for Objective Value"
                  }
                },
                "yaxis": {
                  "title": {
                    "text": "Hyperparameter"
                  }
                }
              }
            }
          },
          "metadata": {},
          "output_type": "display_data"
        }
      ],
      "source": [
        "import torch as th\n",
        "\n",
        "# Set pytorch num threads to 1 for faster training\n",
        "th.set_num_threads(1)\n",
        "# Select the sampler, can be random, TPESampler, CMAES, ...\n",
        "sampler = TPESampler(n_startup_trials=N_STARTUP_TRIALS)\n",
        "# Do not prune before 1/3 of the max budget is used\n",
        "pruner = MedianPruner(\n",
        "    n_startup_trials=N_STARTUP_TRIALS, n_warmup_steps=N_EVALUATIONS // 3\n",
        ")\n",
        "# Create the study and start the hyperparameter optimization\n",
        "study = optuna.create_study(sampler=sampler, pruner=pruner, direction=\"maximize\")\n",
        "\n",
        "try:\n",
        "    study.optimize(objective, n_trials=N_TRIALS, n_jobs=N_JOBS, timeout=TIMEOUT)\n",
        "except KeyboardInterrupt:\n",
        "    pass\n",
        "\n",
        "print(\"Number of finished trials: \", len(study.trials))\n",
        "\n",
        "print(\"Best trial:\")\n",
        "trial = study.best_trial\n",
        "\n",
        "print(f\"  Value: {trial.value}\")\n",
        "\n",
        "print(\"  Params: \")\n",
        "for key, value in trial.params.items():\n",
        "    print(f\"    {key}: {value}\")\n",
        "\n",
        "print(\"  User attrs:\")\n",
        "for key, value in trial.user_attrs.items():\n",
        "    print(f\"    {key}: {value}\")\n",
        "\n",
        "# Write report\n",
        "study.trials_dataframe().to_csv(\"study_results_a2c_cartpole.csv\")\n",
        "\n",
        "fig1 = plot_optimization_history(study)\n",
        "fig2 = plot_param_importances(study)\n",
        "\n",
        "fig1.show()\n",
        "fig2.show()"
      ]
    },
    {
      "cell_type": "markdown",
      "metadata": {
        "id": "SCbep6z1h3D1"
      },
      "source": [
        "Complete example: https://github.com/DLR-RM/rl-baselines3-zoo"
      ]
    },
    {
      "cell_type": "markdown",
      "metadata": {
        "id": "7yUeYnfJVpB2"
      },
      "source": [
        "# Conclusion\n",
        "\n",
        "What we have seen in this notebook:\n",
        "- the importance of good hyperparameters\n",
        "- how to do automatic hyperparameter search with optuna\n"
      ]
    },
    {
      "cell_type": "code",
      "execution_count": null,
      "metadata": {
        "id": "3-gqIPXqV7zZ"
      },
      "outputs": [],
      "source": []
    }
  ],
  "metadata": {
    "colab": {
      "provenance": []
    },
    "kernelspec": {
      "display_name": "Python 3",
      "language": "python",
      "name": "python3"
    },
    "language_info": {
      "codemirror_mode": {
        "name": "ipython",
        "version": 3
      },
      "file_extension": ".py",
      "mimetype": "text/x-python",
      "name": "python",
      "nbconvert_exporter": "python",
      "pygments_lexer": "ipython3",
      "version": "3.10.5"
    },
    "vscode": {
      "interpreter": {
        "hash": "d3dd45139de4382764e819cdde597ab4817e4729709b0f20b5099e88d12fddf3"
      }
    }
  },
  "nbformat": 4,
  "nbformat_minor": 0
}
